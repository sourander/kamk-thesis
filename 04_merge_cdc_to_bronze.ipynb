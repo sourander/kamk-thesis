{
 "cells": [
  {
   "cell_type": "markdown",
   "id": "b7e9ec06",
   "metadata": {},
   "source": [
    "# Merge the CDC Files to Bronze\n",
    "\n",
    "Note that in Databricks, we could use the Auto Loader. In this case, our **readStream** would have additional options:\n",
    "\n",
    "```python\n",
    " .format(\"cloudFiles\")\n",
    " .option(\"cloudFiles.format\", \"parquet\")\n",
    " .option(\"cloudFiles.useNotifications\", \"true\") # Use for SQS/SNS\n",
    " .option(\"cloudFiles.region\", \"eu-west-1\")      # Use for SQS/SNS\n",
    "```\n",
    "\n",
    "My thesis includes examples of this in Finnish. This script uses file listing method."
   ]
  },
  {
   "cell_type": "code",
   "execution_count": 1,
   "id": "9c8621f5",
   "metadata": {},
   "outputs": [],
   "source": [
    "import glob\n",
    "import os\n",
    "import pyspark.sql.functions as F\n",
    "from helpers.paths import PathMerger\n",
    "from pyspark.sql import SparkSession"
   ]
  },
  {
   "cell_type": "code",
   "execution_count": 2,
   "id": "52978122",
   "metadata": {},
   "outputs": [],
   "source": [
    "spark = (SparkSession.builder\n",
    "         .appName(\"MergeCDCtoBronze\")\n",
    "         .config(\"spark.jars.packages\", \"io.delta:delta-core_2.12:0.8.0\")\n",
    "         .config('spark.sql.extensions', \"io.delta.sql.DeltaSparkSessionExtension\")\n",
    "         .config(\"spark.sql.catalog.spark_catalog\", \"org.apache.spark.sql.delta.catalog.DeltaCatalog\")\n",
    "         .config('spark.sql.session.timeZone', 'UTC')\n",
    "         .getOrCreate())\n",
    "\n",
    "\n",
    "# This cannot be imported before initializing the SparkSession.\n",
    "from delta import DeltaTable"
   ]
  },
  {
   "cell_type": "markdown",
   "id": "33c68258",
   "metadata": {},
   "source": [
    "## Imagine orchestator here\n",
    "\n",
    "If this was a worker Notebook in Databricks, or a worker Python script orchestrated by Airflow the parameters below would be fed while executing this script."
   ]
  },
  {
   "cell_type": "code",
   "execution_count": 3,
   "id": "dbbcfcbf",
   "metadata": {},
   "outputs": [],
   "source": [
    "# Params\n",
    "db, table = 'devices', 'device_models'\n",
    "all_pks = [\"id\"]\n",
    "\n",
    "\n",
    "# Init\n",
    "pm = PathMerger(db, table)"
   ]
  },
  {
   "cell_type": "code",
   "execution_count": 4,
   "id": "b6f18939",
   "metadata": {},
   "outputs": [
    {
     "name": "stdout",
     "output_type": "stream",
     "text": [
      "[INFO] The following Parquet files exist in this staging path: \n",
      "S3\\staging\\dms\\abc\\devices\\device_models\\LOAD00000001.parquet\n",
      "S3\\staging\\dms\\abc\\devices\\device_models\\2021\\8\\19\\20210819_104713.parquet\n"
     ]
    }
   ],
   "source": [
    "print(\"[INFO] The following Parquet files exist in this staging path: \")\n",
    "\n",
    "for f in glob.glob(pm.staging + os.sep + \"**/*.parquet\", recursive=True):\n",
    "    print(f)"
   ]
  },
  {
   "cell_type": "markdown",
   "id": "d8b80e0d",
   "metadata": {},
   "source": [
    "## Load\n",
    "\n",
    "Based on my testing, the pathGlobFilter applies to the filename, not to the whole path. \n",
    "\n",
    "Thus, a glob filter such as...\n",
    "* `**/*.parquet` returns no files\n",
    "* `[L]*.parquet` returns all files starting with an `L` letter and ending to `.parquet`.\n",
    "* `[!L]*.parquet` returns all files NOT starting with an `L` letter."
   ]
  },
  {
   "cell_type": "markdown",
   "id": "58b66f9b",
   "metadata": {},
   "source": [
    "## Define Functions"
   ]
  },
  {
   "cell_type": "code",
   "execution_count": 5,
   "id": "4b205c9a",
   "metadata": {},
   "outputs": [],
   "source": [
    "# Not to use in production.\n",
    "df_latest = None"
   ]
  },
  {
   "cell_type": "code",
   "execution_count": 6,
   "id": "dda0cce3",
   "metadata": {},
   "outputs": [],
   "source": [
    "def merge_to_delta(batch_df, batch_id):\n",
    "    \"\"\"\n",
    "    TODO: Write what this does.\n",
    "    \"\"\"\n",
    "    \n",
    "    # Add op_numeral\n",
    "    batch_df = (\n",
    "        batch_df\n",
    "         .withColumn(\"op_numeral\", F.when(F.col(\"Op\") == \"I\", 1)\n",
    "                                     .when(F.col(\"Op\") == \"U\", 2)\n",
    "                                     .when(F.col(\"Op\") == \"D\", 3).cast(\"int\")) # Temporary column\n",
    "        .withColumn('dms_temp', F.to_timestamp(F.col(\"dms_timestamp\"))) # Temporary column\n",
    "        # .withColumn(\"par\", F.col(\"*all_pks[0]) % n_pars)\n",
    "        .withColumn(\"src_file\", F.input_file_name())\n",
    "        .withColumn(\"src_batch_id\", F.lit(batch_id))\n",
    "    )\n",
    "    \n",
    "    # Compact to one item per id\n",
    "    latest_uniques = (\n",
    "        batch_df\n",
    "            .selectExpr(*all_pks, \"struct(dms_temp, op_numeral, *) as others\")\n",
    "            .groupBy(*all_pks)\n",
    "            .agg(F.max(\"others\").alias(\"latest\"))\n",
    "            .select(\"latest.*\")\n",
    "        )\n",
    "    \n",
    "    # Not to use in production\n",
    "    global df_latest\n",
    "    df_latest = latest_uniques\n",
    "    \n",
    "    # Load Delta Table\n",
    "    target = DeltaTable.forPath(spark, pm.bronze)\n",
    "    \n",
    "    # Using target schema, format to: { \"id\": \"s.id\" }\n",
    "    col_map = {x.name: f\"s.{x.name}\" for x in target.toDF().schema}\n",
    "    \n",
    "    # Format the list of primary keys \n",
    "    # into SQL join condition like \"t.id = s.id AND t.foo = s.foo\"\n",
    "    join_cond = \" AND \".join([f\"t.{pk} = s.{pk}\" for pk in all_pks])\n",
    "    \n",
    "    print(col_map)\n",
    "    print(\"Joining with condition: \", join_cond)\n",
    "    \n",
    "    (\n",
    "      target.alias(\"t\")\n",
    "      .merge(\n",
    "          latest_uniques.alias(\"s\"),\n",
    "            f\"{join_cond}\")\n",
    "            .whenMatchedDelete(condition = \"s.Op = 'D'\")\n",
    "            .whenMatchedUpdate(condition = \"s.Op = 'U'\", set = col_map)\n",
    "            .whenNotMatchedInsert(condition = \"s.Op != 'D'\", values = col_map)\n",
    "      .execute()\n",
    "    )    "
   ]
  },
  {
   "cell_type": "markdown",
   "id": "271d0d6a",
   "metadata": {},
   "source": [
    "## Stream"
   ]
  },
  {
   "cell_type": "code",
   "execution_count": 11,
   "id": "c9a762f9",
   "metadata": {},
   "outputs": [
    {
     "name": "stdout",
     "output_type": "stream",
     "text": [
      "{'dms_timestamp': 's.dms_timestamp', 'id': 's.id', 'release_date': 's.release_date', 'name': 's.name', 'color': 's.color', 'description': 's.description', 'created': 's.created', 'modified': 's.modified', 'src_batch_id': 's.src_batch_id'}\n",
      "Joining with condition:  t.id = s.id\n"
     ]
    },
    {
     "ename": "StreamingQueryException",
     "evalue": "An exception was raised by the Python Proxy. Return Message: Traceback (most recent call last):\n  File \"C:\\Users\\soura\\PycharmProjects\\opinnaytetyo\\venv\\lib\\site-packages\\py4j\\java_gateway.py\", line 2451, in _call_proxy\n    return_value = getattr(self.pool[obj_id], method)(*params)\n  File \"C:\\Users\\soura\\SPARK\\spark-3.1.2-bin-hadoop2.7\\python\\pyspark\\sql\\utils.py\", line 196, in call\n    raise e\n  File \"C:\\Users\\soura\\SPARK\\spark-3.1.2-bin-hadoop2.7\\python\\pyspark\\sql\\utils.py\", line 193, in call\n    self.func(DataFrame(jdf, self.sql_ctx), batch_id)\n  File \"C:\\Users\\soura\\AppData\\Local\\Temp/ipykernel_6544/683105810.py\", line 45, in merge_to_delta\n    target.alias(\"t\")\n  File \"C:\\Users\\soura\\AppData\\Local\\Temp\\spark-843ea45a-c4be-48b0-ba79-60abc3fbc2af\\userFiles-0d1b016a-1c75-4bf8-97ec-27f60695023f\\io.delta_delta-core_2.12-0.8.0.jar\\delta\\tables.py\", line 627, in execute\n    self._jbuilder.execute()\n  File \"C:\\Users\\soura\\PycharmProjects\\opinnaytetyo\\venv\\lib\\site-packages\\py4j\\java_gateway.py\", line 1309, in __call__\n    return_value = get_return_value(\n  File \"C:\\Users\\soura\\SPARK\\spark-3.1.2-bin-hadoop2.7\\python\\pyspark\\sql\\utils.py\", line 111, in deco\n    return f(*a, **kw)\n  File \"C:\\Users\\soura\\PycharmProjects\\opinnaytetyo\\venv\\lib\\site-packages\\py4j\\protocol.py\", line 326, in get_return_value\n    raise Py4JJavaError(\npy4j.protocol.Py4JJavaError: An error occurred while calling o279.execute.\n: java.lang.NoSuchMethodError: org.apache.spark.sql.catalyst.expressions.Alias.<init>(Lorg/apache/spark/sql/catalyst/expressions/Expression;Ljava/lang/String;Lorg/apache/spark/sql/catalyst/expressions/ExprId;Lscala/collection/Seq;Lscala/Option;)V\r\n\tat org.apache.spark.sql.delta.commands.MergeIntoCommand.$anonfun$buildTargetPlanWithFiles$1(MergeIntoCommand.scala:577)\r\n\tat scala.collection.TraversableLike.$anonfun$map$1(TraversableLike.scala:238)\r\n\tat scala.collection.immutable.List.foreach(List.scala:392)\r\n\tat scala.collection.TraversableLike.map(TraversableLike.scala:238)\r\n\tat scala.collection.TraversableLike.map$(TraversableLike.scala:231)\r\n\tat scala.collection.immutable.List.map(List.scala:298)\r\n\tat org.apache.spark.sql.delta.commands.MergeIntoCommand.buildTargetPlanWithFiles(MergeIntoCommand.scala:569)\r\n\tat org.apache.spark.sql.delta.commands.MergeIntoCommand.$anonfun$findTouchedFiles$1(MergeIntoCommand.scala:330)\r\n\tat org.apache.spark.sql.delta.commands.MergeIntoCommand.recordMergeOperation(MergeIntoCommand.scala:622)\r\n\tat org.apache.spark.sql.delta.commands.MergeIntoCommand.findTouchedFiles(MergeIntoCommand.scala:306)\r\n\tat org.apache.spark.sql.delta.commands.MergeIntoCommand.$anonfun$run$2(MergeIntoCommand.scala:267)\r\n\tat org.apache.spark.sql.delta.commands.MergeIntoCommand.$anonfun$run$2$adapted(MergeIntoCommand.scala:250)\r\n\tat org.apache.spark.sql.delta.DeltaLog.withNewTransaction(DeltaLog.scala:188)\r\n\tat org.apache.spark.sql.delta.commands.MergeIntoCommand.$anonfun$run$1(MergeIntoCommand.scala:250)\r\n\tat scala.runtime.java8.JFunction0$mcV$sp.apply(JFunction0$mcV$sp.java:23)\r\n\tat org.apache.spark.sql.delta.commands.MergeIntoCommand.recordMergeOperation(MergeIntoCommand.scala:622)\r\n\tat org.apache.spark.sql.delta.commands.MergeIntoCommand.run(MergeIntoCommand.scala:249)\r\n\tat io.delta.tables.DeltaMergeBuilder.$anonfun$execute$1(DeltaMergeBuilder.scala:239)\r\n\tat org.apache.spark.sql.delta.util.AnalysisHelper.improveUnsupportedOpError(AnalysisHelper.scala:60)\r\n\tat org.apache.spark.sql.delta.util.AnalysisHelper.improveUnsupportedOpError$(AnalysisHelper.scala:48)\r\n\tat io.delta.tables.DeltaMergeBuilder.improveUnsupportedOpError(DeltaMergeBuilder.scala:123)\r\n\tat io.delta.tables.DeltaMergeBuilder.execute(DeltaMergeBuilder.scala:228)\r\n\tat sun.reflect.NativeMethodAccessorImpl.invoke0(Native Method)\r\n\tat sun.reflect.NativeMethodAccessorImpl.invoke(NativeMethodAccessorImpl.java:62)\r\n\tat sun.reflect.DelegatingMethodAccessorImpl.invoke(DelegatingMethodAccessorImpl.java:43)\r\n\tat java.lang.reflect.Method.invoke(Method.java:498)\r\n\tat py4j.reflection.MethodInvoker.invoke(MethodInvoker.java:244)\r\n\tat py4j.reflection.ReflectionEngine.invoke(ReflectionEngine.java:357)\r\n\tat py4j.Gateway.invoke(Gateway.java:282)\r\n\tat py4j.commands.AbstractCommand.invokeMethod(AbstractCommand.java:132)\r\n\tat py4j.commands.CallCommand.execute(CallCommand.java:79)\r\n\tat py4j.GatewayConnection.run(GatewayConnection.java:238)\r\n\tat java.lang.Thread.run(Thread.java:748)\r\n\n\n=== Streaming Query ===\nIdentifier: [id = b74e9320-4b4b-491e-922e-93722068a2ce, runId = 4d9a246f-0833-4aea-9d6b-6dff364a6250]\nCurrent Committed Offsets: {}\nCurrent Available Offsets: {FileStreamSource[file:/C:/Users/soura/PycharmProjects/opinnaytetyo/S3/staging/dms/abc/devices/device_models]: {\"logOffset\":0}}\n\nCurrent State: ACTIVE\nThread State: RUNNABLE\n\nLogical Plan:\nFileStreamSource[file:/C:/Users/soura/PycharmProjects/opinnaytetyo/S3/staging/dms/abc/devices/device_models]",
     "output_type": "error",
     "traceback": [
      "\u001b[1;31m---------------------------------------------------------------------------\u001b[0m",
      "\u001b[1;31mStreamingQueryException\u001b[0m                   Traceback (most recent call last)",
      "\u001b[1;32m~\\AppData\\Local\\Temp/ipykernel_6544/3200762313.py\u001b[0m in \u001b[0;36m<module>\u001b[1;34m\u001b[0m\n\u001b[0;32m     26\u001b[0m )\n\u001b[0;32m     27\u001b[0m \u001b[1;33m\u001b[0m\u001b[0m\n\u001b[1;32m---> 28\u001b[1;33m \u001b[0mstreamingquery\u001b[0m\u001b[1;33m.\u001b[0m\u001b[0mawaitTermination\u001b[0m\u001b[1;33m(\u001b[0m\u001b[1;33m)\u001b[0m\u001b[1;33m\u001b[0m\u001b[1;33m\u001b[0m\u001b[0m\n\u001b[0m",
      "\u001b[1;32m~\\SPARK\\spark-3.1.2-bin-hadoop2.7\\python\\pyspark\\sql\\streaming.py\u001b[0m in \u001b[0;36mawaitTermination\u001b[1;34m(self, timeout)\u001b[0m\n\u001b[0;32m     99\u001b[0m             \u001b[1;32mreturn\u001b[0m \u001b[0mself\u001b[0m\u001b[1;33m.\u001b[0m\u001b[0m_jsq\u001b[0m\u001b[1;33m.\u001b[0m\u001b[0mawaitTermination\u001b[0m\u001b[1;33m(\u001b[0m\u001b[0mint\u001b[0m\u001b[1;33m(\u001b[0m\u001b[0mtimeout\u001b[0m \u001b[1;33m*\u001b[0m \u001b[1;36m1000\u001b[0m\u001b[1;33m)\u001b[0m\u001b[1;33m)\u001b[0m\u001b[1;33m\u001b[0m\u001b[1;33m\u001b[0m\u001b[0m\n\u001b[0;32m    100\u001b[0m         \u001b[1;32melse\u001b[0m\u001b[1;33m:\u001b[0m\u001b[1;33m\u001b[0m\u001b[1;33m\u001b[0m\u001b[0m\n\u001b[1;32m--> 101\u001b[1;33m             \u001b[1;32mreturn\u001b[0m \u001b[0mself\u001b[0m\u001b[1;33m.\u001b[0m\u001b[0m_jsq\u001b[0m\u001b[1;33m.\u001b[0m\u001b[0mawaitTermination\u001b[0m\u001b[1;33m(\u001b[0m\u001b[1;33m)\u001b[0m\u001b[1;33m\u001b[0m\u001b[1;33m\u001b[0m\u001b[0m\n\u001b[0m\u001b[0;32m    102\u001b[0m \u001b[1;33m\u001b[0m\u001b[0m\n\u001b[0;32m    103\u001b[0m     \u001b[1;33m@\u001b[0m\u001b[0mproperty\u001b[0m\u001b[1;33m\u001b[0m\u001b[1;33m\u001b[0m\u001b[0m\n",
      "\u001b[1;32m~\\PycharmProjects\\opinnaytetyo\\venv\\lib\\site-packages\\py4j\\java_gateway.py\u001b[0m in \u001b[0;36m__call__\u001b[1;34m(self, *args)\u001b[0m\n\u001b[0;32m   1307\u001b[0m \u001b[1;33m\u001b[0m\u001b[0m\n\u001b[0;32m   1308\u001b[0m         \u001b[0manswer\u001b[0m \u001b[1;33m=\u001b[0m \u001b[0mself\u001b[0m\u001b[1;33m.\u001b[0m\u001b[0mgateway_client\u001b[0m\u001b[1;33m.\u001b[0m\u001b[0msend_command\u001b[0m\u001b[1;33m(\u001b[0m\u001b[0mcommand\u001b[0m\u001b[1;33m)\u001b[0m\u001b[1;33m\u001b[0m\u001b[1;33m\u001b[0m\u001b[0m\n\u001b[1;32m-> 1309\u001b[1;33m         return_value = get_return_value(\n\u001b[0m\u001b[0;32m   1310\u001b[0m             answer, self.gateway_client, self.target_id, self.name)\n\u001b[0;32m   1311\u001b[0m \u001b[1;33m\u001b[0m\u001b[0m\n",
      "\u001b[1;32m~\\SPARK\\spark-3.1.2-bin-hadoop2.7\\python\\pyspark\\sql\\utils.py\u001b[0m in \u001b[0;36mdeco\u001b[1;34m(*a, **kw)\u001b[0m\n\u001b[0;32m    115\u001b[0m                 \u001b[1;31m# Hide where the exception came from that shows a non-Pythonic\u001b[0m\u001b[1;33m\u001b[0m\u001b[1;33m\u001b[0m\u001b[1;33m\u001b[0m\u001b[0m\n\u001b[0;32m    116\u001b[0m                 \u001b[1;31m# JVM exception message.\u001b[0m\u001b[1;33m\u001b[0m\u001b[1;33m\u001b[0m\u001b[1;33m\u001b[0m\u001b[0m\n\u001b[1;32m--> 117\u001b[1;33m                 \u001b[1;32mraise\u001b[0m \u001b[0mconverted\u001b[0m \u001b[1;32mfrom\u001b[0m \u001b[1;32mNone\u001b[0m\u001b[1;33m\u001b[0m\u001b[1;33m\u001b[0m\u001b[0m\n\u001b[0m\u001b[0;32m    118\u001b[0m             \u001b[1;32melse\u001b[0m\u001b[1;33m:\u001b[0m\u001b[1;33m\u001b[0m\u001b[1;33m\u001b[0m\u001b[0m\n\u001b[0;32m    119\u001b[0m                 \u001b[1;32mraise\u001b[0m\u001b[1;33m\u001b[0m\u001b[1;33m\u001b[0m\u001b[0m\n",
      "\u001b[1;31mStreamingQueryException\u001b[0m: An exception was raised by the Python Proxy. Return Message: Traceback (most recent call last):\n  File \"C:\\Users\\soura\\PycharmProjects\\opinnaytetyo\\venv\\lib\\site-packages\\py4j\\java_gateway.py\", line 2451, in _call_proxy\n    return_value = getattr(self.pool[obj_id], method)(*params)\n  File \"C:\\Users\\soura\\SPARK\\spark-3.1.2-bin-hadoop2.7\\python\\pyspark\\sql\\utils.py\", line 196, in call\n    raise e\n  File \"C:\\Users\\soura\\SPARK\\spark-3.1.2-bin-hadoop2.7\\python\\pyspark\\sql\\utils.py\", line 193, in call\n    self.func(DataFrame(jdf, self.sql_ctx), batch_id)\n  File \"C:\\Users\\soura\\AppData\\Local\\Temp/ipykernel_6544/683105810.py\", line 45, in merge_to_delta\n    target.alias(\"t\")\n  File \"C:\\Users\\soura\\AppData\\Local\\Temp\\spark-843ea45a-c4be-48b0-ba79-60abc3fbc2af\\userFiles-0d1b016a-1c75-4bf8-97ec-27f60695023f\\io.delta_delta-core_2.12-0.8.0.jar\\delta\\tables.py\", line 627, in execute\n    self._jbuilder.execute()\n  File \"C:\\Users\\soura\\PycharmProjects\\opinnaytetyo\\venv\\lib\\site-packages\\py4j\\java_gateway.py\", line 1309, in __call__\n    return_value = get_return_value(\n  File \"C:\\Users\\soura\\SPARK\\spark-3.1.2-bin-hadoop2.7\\python\\pyspark\\sql\\utils.py\", line 111, in deco\n    return f(*a, **kw)\n  File \"C:\\Users\\soura\\PycharmProjects\\opinnaytetyo\\venv\\lib\\site-packages\\py4j\\protocol.py\", line 326, in get_return_value\n    raise Py4JJavaError(\npy4j.protocol.Py4JJavaError: An error occurred while calling o279.execute.\n: java.lang.NoSuchMethodError: org.apache.spark.sql.catalyst.expressions.Alias.<init>(Lorg/apache/spark/sql/catalyst/expressions/Expression;Ljava/lang/String;Lorg/apache/spark/sql/catalyst/expressions/ExprId;Lscala/collection/Seq;Lscala/Option;)V\r\n\tat org.apache.spark.sql.delta.commands.MergeIntoCommand.$anonfun$buildTargetPlanWithFiles$1(MergeIntoCommand.scala:577)\r\n\tat scala.collection.TraversableLike.$anonfun$map$1(TraversableLike.scala:238)\r\n\tat scala.collection.immutable.List.foreach(List.scala:392)\r\n\tat scala.collection.TraversableLike.map(TraversableLike.scala:238)\r\n\tat scala.collection.TraversableLike.map$(TraversableLike.scala:231)\r\n\tat scala.collection.immutable.List.map(List.scala:298)\r\n\tat org.apache.spark.sql.delta.commands.MergeIntoCommand.buildTargetPlanWithFiles(MergeIntoCommand.scala:569)\r\n\tat org.apache.spark.sql.delta.commands.MergeIntoCommand.$anonfun$findTouchedFiles$1(MergeIntoCommand.scala:330)\r\n\tat org.apache.spark.sql.delta.commands.MergeIntoCommand.recordMergeOperation(MergeIntoCommand.scala:622)\r\n\tat org.apache.spark.sql.delta.commands.MergeIntoCommand.findTouchedFiles(MergeIntoCommand.scala:306)\r\n\tat org.apache.spark.sql.delta.commands.MergeIntoCommand.$anonfun$run$2(MergeIntoCommand.scala:267)\r\n\tat org.apache.spark.sql.delta.commands.MergeIntoCommand.$anonfun$run$2$adapted(MergeIntoCommand.scala:250)\r\n\tat org.apache.spark.sql.delta.DeltaLog.withNewTransaction(DeltaLog.scala:188)\r\n\tat org.apache.spark.sql.delta.commands.MergeIntoCommand.$anonfun$run$1(MergeIntoCommand.scala:250)\r\n\tat scala.runtime.java8.JFunction0$mcV$sp.apply(JFunction0$mcV$sp.java:23)\r\n\tat org.apache.spark.sql.delta.commands.MergeIntoCommand.recordMergeOperation(MergeIntoCommand.scala:622)\r\n\tat org.apache.spark.sql.delta.commands.MergeIntoCommand.run(MergeIntoCommand.scala:249)\r\n\tat io.delta.tables.DeltaMergeBuilder.$anonfun$execute$1(DeltaMergeBuilder.scala:239)\r\n\tat org.apache.spark.sql.delta.util.AnalysisHelper.improveUnsupportedOpError(AnalysisHelper.scala:60)\r\n\tat org.apache.spark.sql.delta.util.AnalysisHelper.improveUnsupportedOpError$(AnalysisHelper.scala:48)\r\n\tat io.delta.tables.DeltaMergeBuilder.improveUnsupportedOpError(DeltaMergeBuilder.scala:123)\r\n\tat io.delta.tables.DeltaMergeBuilder.execute(DeltaMergeBuilder.scala:228)\r\n\tat sun.reflect.NativeMethodAccessorImpl.invoke0(Native Method)\r\n\tat sun.reflect.NativeMethodAccessorImpl.invoke(NativeMethodAccessorImpl.java:62)\r\n\tat sun.reflect.DelegatingMethodAccessorImpl.invoke(DelegatingMethodAccessorImpl.java:43)\r\n\tat java.lang.reflect.Method.invoke(Method.java:498)\r\n\tat py4j.reflection.MethodInvoker.invoke(MethodInvoker.java:244)\r\n\tat py4j.reflection.ReflectionEngine.invoke(ReflectionEngine.java:357)\r\n\tat py4j.Gateway.invoke(Gateway.java:282)\r\n\tat py4j.commands.AbstractCommand.invokeMethod(AbstractCommand.java:132)\r\n\tat py4j.commands.CallCommand.execute(CallCommand.java:79)\r\n\tat py4j.GatewayConnection.run(GatewayConnection.java:238)\r\n\tat java.lang.Thread.run(Thread.java:748)\r\n\n\n=== Streaming Query ===\nIdentifier: [id = b74e9320-4b4b-491e-922e-93722068a2ce, runId = 4d9a246f-0833-4aea-9d6b-6dff364a6250]\nCurrent Committed Offsets: {}\nCurrent Available Offsets: {FileStreamSource[file:/C:/Users/soura/PycharmProjects/opinnaytetyo/S3/staging/dms/abc/devices/device_models]: {\"logOffset\":0}}\n\nCurrent State: ACTIVE\nThread State: RUNNABLE\n\nLogical Plan:\nFileStreamSource[file:/C:/Users/soura/PycharmProjects/opinnaytetyo/S3/staging/dms/abc/devices/device_models]"
     ]
    }
   ],
   "source": [
    "    \n",
    "# Schema is forced to match the Bronze, but with an extra field. DMS does not add Op to full load.\n",
    "readers_schema = spark.read.format(\"delta\").load(pm.bronze).schema.add(\"Op\", \"string\")\n",
    "\n",
    "# Checkpoints will be written to...\n",
    "checkpoint_path = os.path.join('S3', 'bronze', '_checkpoints', 'abc', db, table)\n",
    "\n",
    "\n",
    "# Prepare Spark Auto Loader\n",
    "df = ( spark.readStream\n",
    "        .format(\"parquet\")\n",
    "        .option(\"recursiveFileLookup\", \"true\")\n",
    "        .option(\"pathGlobFilter\", \"[!L][!O][!A][!D]*.parquet\")\n",
    "        .schema(readers_schema)\n",
    "        .load(pm.staging)\n",
    "  )\n",
    "\n",
    "\n",
    "# Stream\n",
    "streamingquery = ( \n",
    "    df\n",
    "    .writeStream\n",
    "    .trigger(once=True)\n",
    "    .foreachBatch(merge_to_delta)\n",
    "    # .option(\"checkpointLocation\", checkpoint_path)\n",
    "    .start()\n",
    ")\n",
    " \n",
    "streamingquery.awaitTermination()"
   ]
  },
  {
   "cell_type": "markdown",
   "id": "789f5781",
   "metadata": {},
   "source": [
    "## Examine before-after compaction"
   ]
  },
  {
   "cell_type": "code",
   "execution_count": 12,
   "id": "08bb3b2c",
   "metadata": {},
   "outputs": [
    {
     "name": "stdout",
     "output_type": "stream",
     "text": [
      "+-------------------+----------+-------------------+---+------------+----------------+-----+-----------+-------------------+-------------------+------------+---+----------+-------------------+------------------------------------------------------------------------------------------------------------------------------+\n",
      "|dms_temp           |op_numeral|dms_timestamp      |id |release_date|name            |color|description|created            |modified           |src_batch_id|Op |op_numeral|dms_temp           |src_file                                                                                                                      |\n",
      "+-------------------+----------+-------------------+---+------------+----------------+-----+-----------+-------------------+-------------------+------------+---+----------+-------------------+------------------------------------------------------------------------------------------------------------------------------+\n",
      "|2021-08-19 10:46:24|1         |2021-08-19 10:46:24|6  |2021-08-01  |Super Gadget 300|Pink |new device |2021-08-19 07:46:24|2021-08-19 07:46:24|0           |I  |1         |2021-08-19 10:46:24|file:///C:/Users/soura/PycharmProjects/opinnaytetyo/S3/staging/dms/abc/devices/device_models/2021/8/19/20210819_104713.parquet|\n",
      "|2021-08-19 10:46:24|1         |2021-08-19 10:46:24|5  |2021-08-01  |Super Gadget 300|Black|new device |2021-08-19 07:46:24|2021-08-19 07:46:24|0           |I  |1         |2021-08-19 10:46:24|file:///C:/Users/soura/PycharmProjects/opinnaytetyo/S3/staging/dms/abc/devices/device_models/2021/8/19/20210819_104713.parquet|\n",
      "|2021-08-19 10:46:36|2         |2021-08-19 10:46:36|1  |2010-05-15  |Super Gadget 100|Red  |update A   |2010-03-21 12:00:01|2021-08-19 07:46:36|0           |U  |2         |2021-08-19 10:46:36|file:///C:/Users/soura/PycharmProjects/opinnaytetyo/S3/staging/dms/abc/devices/device_models/2021/8/19/20210819_104713.parquet|\n",
      "|2021-08-19 10:46:37|2         |2021-08-19 10:46:37|2  |2010-05-15  |Super Gadget 100|Black|update B   |2010-03-21 12:00:02|2021-08-19 07:46:37|0           |U  |2         |2021-08-19 10:46:37|file:///C:/Users/soura/PycharmProjects/opinnaytetyo/S3/staging/dms/abc/devices/device_models/2021/8/19/20210819_104713.parquet|\n",
      "+-------------------+----------+-------------------+---+------------+----------------+-----+-----------+-------------------+-------------------+------------+---+----------+-------------------+------------------------------------------------------------------------------------------------------------------------------+\n",
      "\n"
     ]
    }
   ],
   "source": [
    "df_latest.show(truncate=False)"
   ]
  },
  {
   "cell_type": "code",
   "execution_count": 13,
   "id": "684bc127",
   "metadata": {},
   "outputs": [
    {
     "ename": "Py4JJavaError",
     "evalue": "An error occurred while calling o321.execute.\n: java.lang.NoSuchMethodError: org.apache.spark.sql.catalyst.expressions.Alias.<init>(Lorg/apache/spark/sql/catalyst/expressions/Expression;Ljava/lang/String;Lorg/apache/spark/sql/catalyst/expressions/ExprId;Lscala/collection/Seq;Lscala/Option;)V\r\n\tat org.apache.spark.sql.delta.commands.MergeIntoCommand.$anonfun$buildTargetPlanWithFiles$1(MergeIntoCommand.scala:577)\r\n\tat scala.collection.TraversableLike.$anonfun$map$1(TraversableLike.scala:238)\r\n\tat scala.collection.immutable.List.foreach(List.scala:392)\r\n\tat scala.collection.TraversableLike.map(TraversableLike.scala:238)\r\n\tat scala.collection.TraversableLike.map$(TraversableLike.scala:231)\r\n\tat scala.collection.immutable.List.map(List.scala:298)\r\n\tat org.apache.spark.sql.delta.commands.MergeIntoCommand.buildTargetPlanWithFiles(MergeIntoCommand.scala:569)\r\n\tat org.apache.spark.sql.delta.commands.MergeIntoCommand.$anonfun$findTouchedFiles$1(MergeIntoCommand.scala:330)\r\n\tat org.apache.spark.sql.delta.commands.MergeIntoCommand.recordMergeOperation(MergeIntoCommand.scala:622)\r\n\tat org.apache.spark.sql.delta.commands.MergeIntoCommand.findTouchedFiles(MergeIntoCommand.scala:306)\r\n\tat org.apache.spark.sql.delta.commands.MergeIntoCommand.$anonfun$run$2(MergeIntoCommand.scala:267)\r\n\tat org.apache.spark.sql.delta.commands.MergeIntoCommand.$anonfun$run$2$adapted(MergeIntoCommand.scala:250)\r\n\tat org.apache.spark.sql.delta.DeltaLog.withNewTransaction(DeltaLog.scala:188)\r\n\tat org.apache.spark.sql.delta.commands.MergeIntoCommand.$anonfun$run$1(MergeIntoCommand.scala:250)\r\n\tat scala.runtime.java8.JFunction0$mcV$sp.apply(JFunction0$mcV$sp.java:23)\r\n\tat org.apache.spark.sql.delta.commands.MergeIntoCommand.recordMergeOperation(MergeIntoCommand.scala:622)\r\n\tat org.apache.spark.sql.delta.commands.MergeIntoCommand.run(MergeIntoCommand.scala:249)\r\n\tat io.delta.tables.DeltaMergeBuilder.$anonfun$execute$1(DeltaMergeBuilder.scala:239)\r\n\tat org.apache.spark.sql.delta.util.AnalysisHelper.improveUnsupportedOpError(AnalysisHelper.scala:60)\r\n\tat org.apache.spark.sql.delta.util.AnalysisHelper.improveUnsupportedOpError$(AnalysisHelper.scala:48)\r\n\tat io.delta.tables.DeltaMergeBuilder.improveUnsupportedOpError(DeltaMergeBuilder.scala:123)\r\n\tat io.delta.tables.DeltaMergeBuilder.execute(DeltaMergeBuilder.scala:228)\r\n\tat sun.reflect.NativeMethodAccessorImpl.invoke0(Native Method)\r\n\tat sun.reflect.NativeMethodAccessorImpl.invoke(NativeMethodAccessorImpl.java:62)\r\n\tat sun.reflect.DelegatingMethodAccessorImpl.invoke(DelegatingMethodAccessorImpl.java:43)\r\n\tat java.lang.reflect.Method.invoke(Method.java:498)\r\n\tat py4j.reflection.MethodInvoker.invoke(MethodInvoker.java:244)\r\n\tat py4j.reflection.ReflectionEngine.invoke(ReflectionEngine.java:357)\r\n\tat py4j.Gateway.invoke(Gateway.java:282)\r\n\tat py4j.commands.AbstractCommand.invokeMethod(AbstractCommand.java:132)\r\n\tat py4j.commands.CallCommand.execute(CallCommand.java:79)\r\n\tat py4j.GatewayConnection.run(GatewayConnection.java:238)\r\n\tat java.lang.Thread.run(Thread.java:748)\r\n",
     "output_type": "error",
     "traceback": [
      "\u001b[1;31m---------------------------------------------------------------------------\u001b[0m",
      "\u001b[1;31mPy4JJavaError\u001b[0m                             Traceback (most recent call last)",
      "\u001b[1;32m~\\AppData\\Local\\Temp/ipykernel_6544/3426048019.py\u001b[0m in \u001b[0;36m<module>\u001b[1;34m\u001b[0m\n\u001b[0;32m      6\u001b[0m \u001b[1;33m\u001b[0m\u001b[0m\n\u001b[0;32m      7\u001b[0m (\n\u001b[1;32m----> 8\u001b[1;33m   \u001b[0mtarget\u001b[0m\u001b[1;33m.\u001b[0m\u001b[0malias\u001b[0m\u001b[1;33m(\u001b[0m\u001b[1;34m\"t\"\u001b[0m\u001b[1;33m)\u001b[0m\u001b[1;33m\u001b[0m\u001b[1;33m\u001b[0m\u001b[0m\n\u001b[0m\u001b[0;32m      9\u001b[0m   .merge(\n\u001b[0;32m     10\u001b[0m       \u001b[0mdf_latest\u001b[0m\u001b[1;33m.\u001b[0m\u001b[0malias\u001b[0m\u001b[1;33m(\u001b[0m\u001b[1;34m\"s\"\u001b[0m\u001b[1;33m)\u001b[0m\u001b[1;33m,\u001b[0m\u001b[1;33m\u001b[0m\u001b[1;33m\u001b[0m\u001b[0m\n",
      "\u001b[1;32m~\\AppData\\Local\\Temp\\spark-843ea45a-c4be-48b0-ba79-60abc3fbc2af\\userFiles-0d1b016a-1c75-4bf8-97ec-27f60695023f\\io.delta_delta-core_2.12-0.8.0.jar\\delta\\tables.py\u001b[0m in \u001b[0;36mexecute\u001b[1;34m(self)\u001b[0m\n\u001b[0;32m    625\u001b[0m         \u001b[1;33m.\u001b[0m\u001b[1;33m.\u001b[0m \u001b[0mnote\u001b[0m\u001b[1;33m:\u001b[0m\u001b[1;33m:\u001b[0m \u001b[0mEvolving\u001b[0m\u001b[1;33m\u001b[0m\u001b[1;33m\u001b[0m\u001b[0m\n\u001b[0;32m    626\u001b[0m         \"\"\"\n\u001b[1;32m--> 627\u001b[1;33m         \u001b[0mself\u001b[0m\u001b[1;33m.\u001b[0m\u001b[0m_jbuilder\u001b[0m\u001b[1;33m.\u001b[0m\u001b[0mexecute\u001b[0m\u001b[1;33m(\u001b[0m\u001b[1;33m)\u001b[0m\u001b[1;33m\u001b[0m\u001b[1;33m\u001b[0m\u001b[0m\n\u001b[0m\u001b[0;32m    628\u001b[0m \u001b[1;33m\u001b[0m\u001b[0m\n\u001b[0;32m    629\u001b[0m     \u001b[1;32mdef\u001b[0m \u001b[0m__getMatchedBuilder\u001b[0m\u001b[1;33m(\u001b[0m\u001b[0mself\u001b[0m\u001b[1;33m,\u001b[0m \u001b[0mcondition\u001b[0m\u001b[1;33m=\u001b[0m\u001b[1;32mNone\u001b[0m\u001b[1;33m)\u001b[0m\u001b[1;33m:\u001b[0m\u001b[1;33m\u001b[0m\u001b[1;33m\u001b[0m\u001b[0m\n",
      "\u001b[1;32m~\\PycharmProjects\\opinnaytetyo\\venv\\lib\\site-packages\\py4j\\java_gateway.py\u001b[0m in \u001b[0;36m__call__\u001b[1;34m(self, *args)\u001b[0m\n\u001b[0;32m   1307\u001b[0m \u001b[1;33m\u001b[0m\u001b[0m\n\u001b[0;32m   1308\u001b[0m         \u001b[0manswer\u001b[0m \u001b[1;33m=\u001b[0m \u001b[0mself\u001b[0m\u001b[1;33m.\u001b[0m\u001b[0mgateway_client\u001b[0m\u001b[1;33m.\u001b[0m\u001b[0msend_command\u001b[0m\u001b[1;33m(\u001b[0m\u001b[0mcommand\u001b[0m\u001b[1;33m)\u001b[0m\u001b[1;33m\u001b[0m\u001b[1;33m\u001b[0m\u001b[0m\n\u001b[1;32m-> 1309\u001b[1;33m         return_value = get_return_value(\n\u001b[0m\u001b[0;32m   1310\u001b[0m             answer, self.gateway_client, self.target_id, self.name)\n\u001b[0;32m   1311\u001b[0m \u001b[1;33m\u001b[0m\u001b[0m\n",
      "\u001b[1;32m~\\SPARK\\spark-3.1.2-bin-hadoop2.7\\python\\pyspark\\sql\\utils.py\u001b[0m in \u001b[0;36mdeco\u001b[1;34m(*a, **kw)\u001b[0m\n\u001b[0;32m    109\u001b[0m     \u001b[1;32mdef\u001b[0m \u001b[0mdeco\u001b[0m\u001b[1;33m(\u001b[0m\u001b[1;33m*\u001b[0m\u001b[0ma\u001b[0m\u001b[1;33m,\u001b[0m \u001b[1;33m**\u001b[0m\u001b[0mkw\u001b[0m\u001b[1;33m)\u001b[0m\u001b[1;33m:\u001b[0m\u001b[1;33m\u001b[0m\u001b[1;33m\u001b[0m\u001b[0m\n\u001b[0;32m    110\u001b[0m         \u001b[1;32mtry\u001b[0m\u001b[1;33m:\u001b[0m\u001b[1;33m\u001b[0m\u001b[1;33m\u001b[0m\u001b[0m\n\u001b[1;32m--> 111\u001b[1;33m             \u001b[1;32mreturn\u001b[0m \u001b[0mf\u001b[0m\u001b[1;33m(\u001b[0m\u001b[1;33m*\u001b[0m\u001b[0ma\u001b[0m\u001b[1;33m,\u001b[0m \u001b[1;33m**\u001b[0m\u001b[0mkw\u001b[0m\u001b[1;33m)\u001b[0m\u001b[1;33m\u001b[0m\u001b[1;33m\u001b[0m\u001b[0m\n\u001b[0m\u001b[0;32m    112\u001b[0m         \u001b[1;32mexcept\u001b[0m \u001b[0mpy4j\u001b[0m\u001b[1;33m.\u001b[0m\u001b[0mprotocol\u001b[0m\u001b[1;33m.\u001b[0m\u001b[0mPy4JJavaError\u001b[0m \u001b[1;32mas\u001b[0m \u001b[0me\u001b[0m\u001b[1;33m:\u001b[0m\u001b[1;33m\u001b[0m\u001b[1;33m\u001b[0m\u001b[0m\n\u001b[0;32m    113\u001b[0m             \u001b[0mconverted\u001b[0m \u001b[1;33m=\u001b[0m \u001b[0mconvert_exception\u001b[0m\u001b[1;33m(\u001b[0m\u001b[0me\u001b[0m\u001b[1;33m.\u001b[0m\u001b[0mjava_exception\u001b[0m\u001b[1;33m)\u001b[0m\u001b[1;33m\u001b[0m\u001b[1;33m\u001b[0m\u001b[0m\n",
      "\u001b[1;32m~\\PycharmProjects\\opinnaytetyo\\venv\\lib\\site-packages\\py4j\\protocol.py\u001b[0m in \u001b[0;36mget_return_value\u001b[1;34m(answer, gateway_client, target_id, name)\u001b[0m\n\u001b[0;32m    324\u001b[0m             \u001b[0mvalue\u001b[0m \u001b[1;33m=\u001b[0m \u001b[0mOUTPUT_CONVERTER\u001b[0m\u001b[1;33m[\u001b[0m\u001b[0mtype\u001b[0m\u001b[1;33m]\u001b[0m\u001b[1;33m(\u001b[0m\u001b[0manswer\u001b[0m\u001b[1;33m[\u001b[0m\u001b[1;36m2\u001b[0m\u001b[1;33m:\u001b[0m\u001b[1;33m]\u001b[0m\u001b[1;33m,\u001b[0m \u001b[0mgateway_client\u001b[0m\u001b[1;33m)\u001b[0m\u001b[1;33m\u001b[0m\u001b[1;33m\u001b[0m\u001b[0m\n\u001b[0;32m    325\u001b[0m             \u001b[1;32mif\u001b[0m \u001b[0manswer\u001b[0m\u001b[1;33m[\u001b[0m\u001b[1;36m1\u001b[0m\u001b[1;33m]\u001b[0m \u001b[1;33m==\u001b[0m \u001b[0mREFERENCE_TYPE\u001b[0m\u001b[1;33m:\u001b[0m\u001b[1;33m\u001b[0m\u001b[1;33m\u001b[0m\u001b[0m\n\u001b[1;32m--> 326\u001b[1;33m                 raise Py4JJavaError(\n\u001b[0m\u001b[0;32m    327\u001b[0m                     \u001b[1;34m\"An error occurred while calling {0}{1}{2}.\\n\"\u001b[0m\u001b[1;33m.\u001b[0m\u001b[1;33m\u001b[0m\u001b[1;33m\u001b[0m\u001b[0m\n\u001b[0;32m    328\u001b[0m                     format(target_id, \".\", name), value)\n",
      "\u001b[1;31mPy4JJavaError\u001b[0m: An error occurred while calling o321.execute.\n: java.lang.NoSuchMethodError: org.apache.spark.sql.catalyst.expressions.Alias.<init>(Lorg/apache/spark/sql/catalyst/expressions/Expression;Ljava/lang/String;Lorg/apache/spark/sql/catalyst/expressions/ExprId;Lscala/collection/Seq;Lscala/Option;)V\r\n\tat org.apache.spark.sql.delta.commands.MergeIntoCommand.$anonfun$buildTargetPlanWithFiles$1(MergeIntoCommand.scala:577)\r\n\tat scala.collection.TraversableLike.$anonfun$map$1(TraversableLike.scala:238)\r\n\tat scala.collection.immutable.List.foreach(List.scala:392)\r\n\tat scala.collection.TraversableLike.map(TraversableLike.scala:238)\r\n\tat scala.collection.TraversableLike.map$(TraversableLike.scala:231)\r\n\tat scala.collection.immutable.List.map(List.scala:298)\r\n\tat org.apache.spark.sql.delta.commands.MergeIntoCommand.buildTargetPlanWithFiles(MergeIntoCommand.scala:569)\r\n\tat org.apache.spark.sql.delta.commands.MergeIntoCommand.$anonfun$findTouchedFiles$1(MergeIntoCommand.scala:330)\r\n\tat org.apache.spark.sql.delta.commands.MergeIntoCommand.recordMergeOperation(MergeIntoCommand.scala:622)\r\n\tat org.apache.spark.sql.delta.commands.MergeIntoCommand.findTouchedFiles(MergeIntoCommand.scala:306)\r\n\tat org.apache.spark.sql.delta.commands.MergeIntoCommand.$anonfun$run$2(MergeIntoCommand.scala:267)\r\n\tat org.apache.spark.sql.delta.commands.MergeIntoCommand.$anonfun$run$2$adapted(MergeIntoCommand.scala:250)\r\n\tat org.apache.spark.sql.delta.DeltaLog.withNewTransaction(DeltaLog.scala:188)\r\n\tat org.apache.spark.sql.delta.commands.MergeIntoCommand.$anonfun$run$1(MergeIntoCommand.scala:250)\r\n\tat scala.runtime.java8.JFunction0$mcV$sp.apply(JFunction0$mcV$sp.java:23)\r\n\tat org.apache.spark.sql.delta.commands.MergeIntoCommand.recordMergeOperation(MergeIntoCommand.scala:622)\r\n\tat org.apache.spark.sql.delta.commands.MergeIntoCommand.run(MergeIntoCommand.scala:249)\r\n\tat io.delta.tables.DeltaMergeBuilder.$anonfun$execute$1(DeltaMergeBuilder.scala:239)\r\n\tat org.apache.spark.sql.delta.util.AnalysisHelper.improveUnsupportedOpError(AnalysisHelper.scala:60)\r\n\tat org.apache.spark.sql.delta.util.AnalysisHelper.improveUnsupportedOpError$(AnalysisHelper.scala:48)\r\n\tat io.delta.tables.DeltaMergeBuilder.improveUnsupportedOpError(DeltaMergeBuilder.scala:123)\r\n\tat io.delta.tables.DeltaMergeBuilder.execute(DeltaMergeBuilder.scala:228)\r\n\tat sun.reflect.NativeMethodAccessorImpl.invoke0(Native Method)\r\n\tat sun.reflect.NativeMethodAccessorImpl.invoke(NativeMethodAccessorImpl.java:62)\r\n\tat sun.reflect.DelegatingMethodAccessorImpl.invoke(DelegatingMethodAccessorImpl.java:43)\r\n\tat java.lang.reflect.Method.invoke(Method.java:498)\r\n\tat py4j.reflection.MethodInvoker.invoke(MethodInvoker.java:244)\r\n\tat py4j.reflection.ReflectionEngine.invoke(ReflectionEngine.java:357)\r\n\tat py4j.Gateway.invoke(Gateway.java:282)\r\n\tat py4j.commands.AbstractCommand.invokeMethod(AbstractCommand.java:132)\r\n\tat py4j.commands.CallCommand.execute(CallCommand.java:79)\r\n\tat py4j.GatewayConnection.run(GatewayConnection.java:238)\r\n\tat java.lang.Thread.run(Thread.java:748)\r\n"
     ]
    }
   ],
   "source": [
    "# Load Delta Table\n",
    "target = DeltaTable.forPath(spark, pm.bronze)\n",
    "\n",
    "# Using target schema, format to: { \"id\": \"s.id\" }\n",
    "col_map = {x.name: f\"s.{x.name}\" for x in target.toDF().schema}\n",
    "\n",
    "(\n",
    "  target.alias(\"t\")\n",
    "  .merge(\n",
    "      df_latest.alias(\"s\"),\n",
    "        \"t.id = s.id\")\n",
    "        .whenMatchedDelete(condition = \"s.Op = 'D'\")\n",
    "        .whenMatchedUpdate(condition = \"s.Op = 'U'\", set = col_map)\n",
    "        .whenNotMatchedInsert(condition = \"s.Op != 'D'\", values = col_map)\n",
    "  .execute()\n",
    ")  "
   ]
  },
  {
   "cell_type": "code",
   "execution_count": 10,
   "id": "8f7872a5",
   "metadata": {},
   "outputs": [
    {
     "name": "stdout",
     "output_type": "stream",
     "text": [
      "+-------+--------------------+------+--------+---------+--------------------+----+--------+---------+-----------+--------------+-------------+--------------------+------------+\n",
      "|version|           timestamp|userId|userName|operation| operationParameters| job|notebook|clusterId|readVersion|isolationLevel|isBlindAppend|    operationMetrics|userMetadata|\n",
      "+-------+--------------------+------+--------+---------+--------------------+----+--------+---------+-----------+--------------+-------------+--------------------+------------+\n",
      "|      6|2021-08-22 07:57:...|  null|    null|    WRITE|{mode -> Overwrit...|null|    null|     null|          5|          null|        false|{numFiles -> 1, n...|        null|\n",
      "|      5|2021-08-22 07:49:...|  null|    null|    WRITE|{mode -> Overwrit...|null|    null|     null|          4|          null|        false|{numFiles -> 1, n...|        null|\n",
      "|      4|2021-08-22 07:47:...|  null|    null|    WRITE|{mode -> Overwrit...|null|    null|     null|          3|          null|        false|{numFiles -> 1, n...|        null|\n",
      "|      3|2021-08-22 07:38:...|  null|    null|    WRITE|{mode -> Overwrit...|null|    null|     null|          2|          null|        false|{numFiles -> 1, n...|        null|\n",
      "|      2|2021-08-22 07:37:...|  null|    null|    WRITE|{mode -> Overwrit...|null|    null|     null|          1|          null|        false|{numFiles -> 1, n...|        null|\n",
      "|      1|2021-08-22 07:37:...|  null|    null|    WRITE|{mode -> Overwrit...|null|    null|     null|          0|          null|        false|{numFiles -> 1, n...|        null|\n",
      "|      0|2021-08-22 07:30:...|  null|    null|    WRITE|{mode -> Overwrit...|null|    null|     null|       null|          null|        false|{numFiles -> 1, n...|        null|\n",
      "+-------+--------------------+------+--------+---------+--------------------+----+--------+---------+-----------+--------------+-------------+--------------------+------------+\n",
      "\n"
     ]
    }
   ],
   "source": [
    "target.history().show()"
   ]
  },
  {
   "cell_type": "markdown",
   "id": "0ffa7b9c",
   "metadata": {},
   "source": [
    "## TODO: Examine query progress"
   ]
  },
  {
   "cell_type": "code",
   "execution_count": 73,
   "id": "36d7e251",
   "metadata": {},
   "outputs": [],
   "source": [
    "streamingquery.lastProgress"
   ]
  },
  {
   "cell_type": "code",
   "execution_count": 75,
   "id": "1192994e",
   "metadata": {},
   "outputs": [
    {
     "data": {
      "text/plain": [
       "{'message': 'Terminated with exception: An exception was raised by the Python Proxy. Return Message: Traceback (most recent call last):\\n  File \"c:\\\\users\\\\soura\\\\pycharmprojects\\\\opinnaytetyo\\\\venv\\\\lib\\\\site-packages\\\\py4j\\\\java_gateway.py\", line 2442, in _call_proxy\\n    return_value = getattr(self.pool[obj_id], method)(*params)\\n  File \"C:\\\\Users\\\\soura\\\\SPARK\\\\spark-3.1.2-bin-hadoop2.7\\\\python\\\\pyspark\\\\sql\\\\utils.py\", line 196, in call\\n    raise e\\n  File \"C:\\\\Users\\\\soura\\\\SPARK\\\\spark-3.1.2-bin-hadoop2.7\\\\python\\\\pyspark\\\\sql\\\\utils.py\", line 193, in call\\n    self.func(DataFrame(jdf, self.sql_ctx), batch_id)\\n  File \"<ipython-input-68-4c2a0329a79b>\", line 51, in merge_to_delta\\n    f\"{join_condidion}\")\\nNameError: name \\'join_condidion\\' is not defined\\n',\n",
       " 'isDataAvailable': False,\n",
       " 'isTriggerActive': False}"
      ]
     },
     "execution_count": 75,
     "metadata": {},
     "output_type": "execute_result"
    }
   ],
   "source": [
    "streamingquery.status"
   ]
  },
  {
   "cell_type": "code",
   "execution_count": null,
   "id": "6e9872e5",
   "metadata": {},
   "outputs": [],
   "source": []
  }
 ],
 "metadata": {
  "kernelspec": {
   "display_name": "Python 3 (ipykernel)",
   "language": "python",
   "name": "python3"
  },
  "language_info": {
   "codemirror_mode": {
    "name": "ipython",
    "version": 3
   },
   "file_extension": ".py",
   "mimetype": "text/x-python",
   "name": "python",
   "nbconvert_exporter": "python",
   "pygments_lexer": "ipython3",
   "version": "3.8.5"
  }
 },
 "nbformat": 4,
 "nbformat_minor": 5
}
