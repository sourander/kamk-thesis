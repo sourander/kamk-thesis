{
 "cells": [
  {
   "cell_type": "code",
   "execution_count": 39,
   "metadata": {},
   "outputs": [],
   "source": [
    "import os\n",
    "from pyspark.sql import SparkSession\n",
    "from pyspark.sql.types import StructType, StructField, StringType, IntegerType"
   ]
  },
  {
   "cell_type": "markdown",
   "metadata": {},
   "source": [
    "## Configure Spark Context"
   ]
  },
  {
   "cell_type": "code",
   "execution_count": 2,
   "metadata": {},
   "outputs": [],
   "source": [
    "spark = (SparkSession.builder\n",
    "         .appName(\"GenerateDataset\")\n",
    "         .config(\"spark.jars.packages\", \"io.delta:delta-core_2.12:0.8.0\")\n",
    "         .config('spark.sql.extensions', \"io.delta.sql.DeltaSparkSessionExtension\")\n",
    "         .config(\"spark.sql.catalog.spark_catalog\", \"org.apache.spark.sql.delta.catalog.DeltaCatalog\")\n",
    "         .config('spark.sql.session.timeZone', 'UTC')\n",
    "         .getOrCreate())"
   ]
  },
  {
   "cell_type": "code",
   "execution_count": 3,
   "metadata": {},
   "outputs": [],
   "source": [
    "# Correct all dates before 1582-10-15 to prolectic gregorian calendar\n",
    "spark.conf.set(\"spark.sql.legacy.parquet.datetimeRebaseModeInRead\", \"CORRECTED\")\n",
    "spark.conf.set(\"spark.sql.legacy.parquet.int96RebaseModeInWrite\", \"CORRECTED\")\n",
    "# spark.conf.set(\"spark.sql.session.timeZone\", \"UTC\")"
   ]
  },
  {
   "cell_type": "markdown",
   "metadata": {},
   "source": [
    "## Handle Names"
   ]
  },
  {
   "cell_type": "code",
   "execution_count": 65,
   "metadata": {},
   "outputs": [],
   "source": [
    "class PathMerger:\n",
    "    \"\"\"Class for generating staging and bronze paths.\"\"\"\n",
    "    \n",
    "    # Settings that should be loaded from a settings file\n",
    "    container = 'S3'\n",
    "    src_prefix = 'staging' \n",
    "    brz_prefix = 'bronze'\n",
    "    tool = 'dms'\n",
    "    ss = 'company_rds'\n",
    "    \n",
    "    # Paths. These will be populated during class init.\n",
    "    staging = None\n",
    "    bronze = None\n",
    "    \n",
    "    def __init__(self, db, table):\n",
    "        \n",
    "        # Fetch input\n",
    "        self.db = db\n",
    "        self.table = table\n",
    "        \n",
    "        # Populate path variables\n",
    "        self.generate_paths()\n",
    "    \n",
    "    def generate_paths(self):\n",
    "        self.staging = os.path.join(self.container, self.src_prefix, self.tool, self.ss, self.db, self.table)\n",
    "        self.bronze = os.path.join(self.container, self.brz_prefix, self.ss, self.db, self.table)"
   ]
  },
  {
   "cell_type": "markdown",
   "metadata": {},
   "source": [
    "## Load Dataset from Staging"
   ]
  },
  {
   "cell_type": "code",
   "execution_count": 66,
   "metadata": {},
   "outputs": [],
   "source": [
    "customer = PathMerger('customers', 'customers')\n",
    "\n",
    "df = spark.read.format(\"parquet\").load(customer.staging)"
   ]
  },
  {
   "cell_type": "code",
   "execution_count": 67,
   "metadata": {},
   "outputs": [
    {
     "name": "stdout",
     "output_type": "stream",
     "text": [
      "+---+----------------------------+--------------------------------+-------------------+-------------------+\n",
      "|id |username                    |password                        |created            |modified           |\n",
      "+---+----------------------------+--------------------------------+-------------------+-------------------+\n",
      "|0  |janisourander@kamk.fi       |135f027721f9840003efe860b37328e0|1290-01-15 00:00:00|1970-02-20 12:34:56|\n",
      "|1  |colleen45@yahoo.com         |989e05bb848ad26f37d5d8cf53c60f8f|2020-01-15 13:37:00|2020-06-06 21:33:05|\n",
      "|2  |emily75@hotmail.com         |f1d5f11cadcb3bee236690e25bdbe362|2020-01-15 14:12:43|2020-09-22 17:37:41|\n",
      "|3  |chrisfarrell@hotmail.com    |e587e7cb20a566724a0541225b219016|2020-01-15 14:38:55|2020-08-03 11:51:18|\n",
      "|4  |swells@andrews-rowe.net     |e66fcd21555908d4a4940e6462bba101|2020-01-15 14:42:01|2020-07-30 23:44:39|\n",
      "|5  |npearson@mathews.com        |d67e01f1df84ca76d18335fdbf55fd10|2020-01-15 15:17:26|2020-08-30 20:21:12|\n",
      "|6  |grace05@hotmail.com         |6f5915f11d91c2c3a3f78e92c4362bf8|2020-01-15 15:35:37|2020-12-20 01:37:41|\n",
      "|7  |cervantesjonathan@powers.com|901ae44b77ce9a6ef8e3e75c15977ad9|2020-01-15 16:11:25|2020-01-28 02:38:20|\n",
      "|8  |longjason@yahoo.com         |6b51e478339dc0dcbcd4ab5f26886071|2020-01-15 16:23:21|2020-02-05 12:51:12|\n",
      "|9  |thompsonoscar@hotmail.com   |8be6cb183765c577ff313404a6678f5f|2020-01-15 17:11:12|2020-07-25 07:34:49|\n",
      "+---+----------------------------+--------------------------------+-------------------+-------------------+\n",
      "\n"
     ]
    }
   ],
   "source": [
    "df.show(truncate=False)"
   ]
  },
  {
   "cell_type": "markdown",
   "metadata": {},
   "source": [
    "## TODO: Write Dataset to Bronze as Delta"
   ]
  },
  {
   "cell_type": "code",
   "execution_count": 16,
   "metadata": {},
   "outputs": [],
   "source": [
    "# Bronze has similar file naming as the staging, but the tool is unnecessary.\n",
    "tgt_layer = 'bronze'\n",
    "\n",
    "tgt_dir = os.path.join(src_container, tgt_layer, src_system, src_db, src_table)\n",
    "\n",
    "# Create directory to the Delta Table\n",
    "#if not os.path.exists(tgt_dir):\n",
    "#    os.makedirs(tgt_dir)"
   ]
  },
  {
   "cell_type": "code",
   "execution_count": 17,
   "metadata": {},
   "outputs": [
    {
     "data": {
      "text/plain": [
       "'S3\\\\bronze\\\\company_rds\\\\customers\\\\customers'"
      ]
     },
     "execution_count": 17,
     "metadata": {},
     "output_type": "execute_result"
    }
   ],
   "source": [
    "tgt_dir"
   ]
  },
  {
   "cell_type": "code",
   "execution_count": 18,
   "metadata": {
    "scrolled": true
   },
   "outputs": [],
   "source": [
    "df.repartition(1).write.mode(\"overwrite\").format(\"delta\").save(tgt_dir)"
   ]
  },
  {
   "cell_type": "code",
   "execution_count": 19,
   "metadata": {},
   "outputs": [],
   "source": [
    "df2 = spark.read.format(\"delta\").load(tgt_dir)"
   ]
  },
  {
   "cell_type": "code",
   "execution_count": 20,
   "metadata": {},
   "outputs": [
    {
     "name": "stdout",
     "output_type": "stream",
     "text": [
      "+---+--------------------+--------------------+-------------------+-------------------+\n",
      "| id|            username|            password|            created|           modified|\n",
      "+---+--------------------+--------------------+-------------------+-------------------+\n",
      "|  0|janisourander@kam...|135f027721f984000...|1290-01-15 00:00:00|1970-02-20 12:34:56|\n",
      "|  1| colleen45@yahoo.com|989e05bb848ad26f3...|2020-01-15 13:37:00|2020-06-06 21:33:05|\n",
      "|  2| emily75@hotmail.com|f1d5f11cadcb3bee2...|2020-01-15 14:12:43|2020-09-22 17:37:41|\n",
      "|  3|chrisfarrell@hotm...|e587e7cb20a566724...|2020-01-15 14:38:55|2020-08-03 11:51:18|\n",
      "|  4|swells@andrews-ro...|e66fcd21555908d4a...|2020-01-15 14:42:01|2020-07-30 23:44:39|\n",
      "|  5|npearson@mathews.com|d67e01f1df84ca76d...|2020-01-15 15:17:26|2020-08-30 20:21:12|\n",
      "|  6| grace05@hotmail.com|6f5915f11d91c2c3a...|2020-01-15 15:35:37|2020-12-20 01:37:41|\n",
      "|  7|cervantesjonathan...|901ae44b77ce9a6ef...|2020-01-15 16:11:25|2020-01-28 02:38:20|\n",
      "|  8| longjason@yahoo.com|6b51e478339dc0dcb...|2020-01-15 16:23:21|2020-02-05 12:51:12|\n",
      "|  9|thompsonoscar@hot...|8be6cb183765c577f...|2020-01-15 17:11:12|2020-07-25 07:34:49|\n",
      "+---+--------------------+--------------------+-------------------+-------------------+\n",
      "\n"
     ]
    }
   ],
   "source": [
    "df2.show()"
   ]
  },
  {
   "cell_type": "code",
   "execution_count": null,
   "metadata": {},
   "outputs": [],
   "source": []
  }
 ],
 "metadata": {
  "kernelspec": {
   "display_name": "Python 3",
   "language": "python",
   "name": "python3"
  },
  "language_info": {
   "codemirror_mode": {
    "name": "ipython",
    "version": 3
   },
   "file_extension": ".py",
   "mimetype": "text/x-python",
   "name": "python",
   "nbconvert_exporter": "python",
   "pygments_lexer": "ipython3",
   "version": "3.8.5"
  }
 },
 "nbformat": 4,
 "nbformat_minor": 1
}
