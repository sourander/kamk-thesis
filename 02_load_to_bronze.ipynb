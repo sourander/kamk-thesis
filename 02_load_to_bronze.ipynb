{
 "cells": [
  {
   "cell_type": "code",
   "execution_count": 1,
   "metadata": {},
   "outputs": [],
   "source": [
    "import os\n",
    "from pyspark.sql import SparkSession\n",
    "from pyspark.sql.types import StructType, StructField, StringType, IntegerType"
   ]
  },
  {
   "cell_type": "markdown",
   "metadata": {},
   "source": [
    "## Configure Spark Context"
   ]
  },
  {
   "cell_type": "code",
   "execution_count": 2,
   "metadata": {},
   "outputs": [],
   "source": [
    "spark = (SparkSession.builder\n",
    "         .appName(\"GenerateDataset\")\n",
    "         .config(\"spark.jars.packages\", \"io.delta:delta-core_2.12:0.8.0\")\n",
    "         .config('spark.sql.extensions', \"io.delta.sql.DeltaSparkSessionExtension\")\n",
    "         .config(\"spark.sql.catalog.spark_catalog\", \"org.apache.spark.sql.delta.catalog.DeltaCatalog\")\n",
    "         .config('spark.sql.session.timeZone', 'UTC')\n",
    "         .getOrCreate())"
   ]
  },
  {
   "cell_type": "code",
   "execution_count": 3,
   "metadata": {},
   "outputs": [],
   "source": [
    "# Correct all dates before 1582-10-15 to prolectic gregorian calendar\n",
    "spark.conf.set(\"spark.sql.legacy.parquet.datetimeRebaseModeInRead\", \"CORRECTED\")\n",
    "spark.conf.set(\"spark.sql.legacy.parquet.int96RebaseModeInWrite\", \"CORRECTED\")\n",
    "# spark.conf.set(\"spark.sql.session.timeZone\", \"UTC\")"
   ]
  },
  {
   "cell_type": "markdown",
   "metadata": {},
   "source": [
    "## Load Dataset from Staging"
   ]
  },
  {
   "cell_type": "code",
   "execution_count": 4,
   "metadata": {},
   "outputs": [],
   "source": [
    "src_container = 'S3'\n",
    "src_prefix = 'staging'\n",
    "src_system = 'alpha'\n",
    "src_db = 'customers'\n",
    "src_table = 'customers'\n",
    "\n",
    "src_dir = os.path.join(src_container, src_prefix, src_system, src_db, src_table)\n",
    "files_to_load = [os.path.join(src_dir, x) for x in os.listdir(src_dir)]\n",
    "\n",
    "df = spark.read.format(\"parquet\").load(files_to_load)\n",
    "#df = spark.read.format(\"parquet\").load('S3/staging/alpha/customers/LOAD00000001.parquet')"
   ]
  },
  {
   "cell_type": "code",
   "execution_count": 5,
   "metadata": {},
   "outputs": [
    {
     "name": "stdout",
     "output_type": "stream",
     "text": [
      "+---+------------------------+--------------------------------+-------------------+-------------------+\n",
      "|id |username                |password                        |created            |modified           |\n",
      "+---+------------------------+--------------------------------+-------------------+-------------------+\n",
      "|0  |janisourander@kamk.fi   |857bd3cde79f7c0ee5ad7bcc79e1b628|1290-01-15 00:00:00|1970-02-20 12:34:56|\n",
      "|1  |wendycampbell@barry.com |69a36fde6d009988e284c3029ee8e9f2|2020-01-15 13:37:00|2020-10-04 11:23:54|\n",
      "|2  |darren62@hotmail.com    |9184e8b7bed887474357d3415c29f9c1|2020-01-15 14:21:57|2020-06-22 16:11:10|\n",
      "|3  |valerieharper@huber.com |48ca30ac84fb3b395b81f698042ded4d|2020-01-15 14:54:02|2020-05-28 01:50:43|\n",
      "|4  |darrell22@yahoo.com     |d4ef8f2356efc9bfde24d64a29c87be1|2020-01-15 15:10:26|2020-04-29 21:58:04|\n",
      "|5  |laurenedwards@smith.com |85bc53f5ee7acb7cd5b8a012257700cd|2020-01-15 15:17:31|2020-02-02 00:20:01|\n",
      "|6  |sfernandez@quinn.com    |8180c25a9ff5f2c9923eab03be2b8b2d|2020-01-15 15:30:01|2020-11-07 18:46:21|\n",
      "|7  |hannamichael@hotmail.com|ab7d94d6a3d2145f0aa63e3adcd84248|2020-01-15 16:17:50|2020-11-28 09:15:21|\n",
      "|8  |danielleshea@hotmail.com|9e91dc4cfe8f99d866ef3ab79787800f|2020-01-15 16:47:08|2020-02-24 01:10:14|\n",
      "|9  |bassangela@miller.com   |4c19c4bccfb62f85a01592a38713df61|2020-01-15 17:30:14|2020-12-16 14:45:36|\n",
      "+---+------------------------+--------------------------------+-------------------+-------------------+\n",
      "\n"
     ]
    }
   ],
   "source": [
    "df.show(truncate=False)"
   ]
  },
  {
   "cell_type": "markdown",
   "metadata": {},
   "source": [
    "## Write Dataset to Bronze as Delta"
   ]
  },
  {
   "cell_type": "code",
   "execution_count": 6,
   "metadata": {},
   "outputs": [],
   "source": [
    "tgt_prefix = 'bronze'\n",
    "tgt_dir = os.path.join(src_container, tgt_prefix, src_system, src_db, src_table)\n",
    "\n",
    "# Create directory to the Delta Table\n",
    "#if not os.path.exists(tgt_dir):\n",
    "#    os.makedirs(tgt_dir)"
   ]
  },
  {
   "cell_type": "code",
   "execution_count": 7,
   "metadata": {},
   "outputs": [
    {
     "data": {
      "text/plain": [
       "'S3\\\\bronze\\\\alpha\\\\customers\\\\customers'"
      ]
     },
     "execution_count": 7,
     "metadata": {},
     "output_type": "execute_result"
    }
   ],
   "source": [
    "tgt_dir"
   ]
  },
  {
   "cell_type": "code",
   "execution_count": 8,
   "metadata": {
    "scrolled": true
   },
   "outputs": [],
   "source": [
    "df.repartition(1).write.mode(\"overwrite\").format(\"delta\").save(tgt_dir)"
   ]
  },
  {
   "cell_type": "code",
   "execution_count": 9,
   "metadata": {},
   "outputs": [],
   "source": [
    "df2 = spark.read.format(\"delta\").load(tgt_dir)"
   ]
  },
  {
   "cell_type": "code",
   "execution_count": 10,
   "metadata": {},
   "outputs": [
    {
     "name": "stdout",
     "output_type": "stream",
     "text": [
      "+---+--------------------+--------------------+-------------------+-------------------+\n",
      "| id|            username|            password|            created|           modified|\n",
      "+---+--------------------+--------------------+-------------------+-------------------+\n",
      "|  0|janisourander@kam...|857bd3cde79f7c0ee...|1290-01-15 00:00:00|1970-02-20 12:34:56|\n",
      "|  1|wendycampbell@bar...|69a36fde6d009988e...|2020-01-15 13:37:00|2020-10-04 11:23:54|\n",
      "|  2|darren62@hotmail.com|9184e8b7bed887474...|2020-01-15 14:21:57|2020-06-22 16:11:10|\n",
      "|  3|valerieharper@hub...|48ca30ac84fb3b395...|2020-01-15 14:54:02|2020-05-28 01:50:43|\n",
      "|  4| darrell22@yahoo.com|d4ef8f2356efc9bfd...|2020-01-15 15:10:26|2020-04-29 21:58:04|\n",
      "|  5|laurenedwards@smi...|85bc53f5ee7acb7cd...|2020-01-15 15:17:31|2020-02-02 00:20:01|\n",
      "|  6|sfernandez@quinn.com|8180c25a9ff5f2c99...|2020-01-15 15:30:01|2020-11-07 18:46:21|\n",
      "|  7|hannamichael@hotm...|ab7d94d6a3d2145f0...|2020-01-15 16:17:50|2020-11-28 09:15:21|\n",
      "|  8|danielleshea@hotm...|9e91dc4cfe8f99d86...|2020-01-15 16:47:08|2020-02-24 01:10:14|\n",
      "|  9|bassangela@miller...|4c19c4bccfb62f85a...|2020-01-15 17:30:14|2020-12-16 14:45:36|\n",
      "+---+--------------------+--------------------+-------------------+-------------------+\n",
      "\n"
     ]
    }
   ],
   "source": [
    "df2.show()"
   ]
  },
  {
   "cell_type": "code",
   "execution_count": null,
   "metadata": {},
   "outputs": [],
   "source": []
  }
 ],
 "metadata": {
  "kernelspec": {
   "display_name": "Python 3",
   "language": "python",
   "name": "python3"
  },
  "language_info": {
   "codemirror_mode": {
    "name": "ipython",
    "version": 3
   },
   "file_extension": ".py",
   "mimetype": "text/x-python",
   "name": "python",
   "nbconvert_exporter": "python",
   "pygments_lexer": "ipython3",
   "version": "3.8.5"
  }
 },
 "nbformat": 4,
 "nbformat_minor": 1
}
