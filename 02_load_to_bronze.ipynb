{
 "cells": [
  {
   "cell_type": "code",
   "execution_count": 1,
   "metadata": {},
   "outputs": [],
   "source": [
    "import os\n",
    "import pyspark.sql.functions as F\n",
    "from helpers.paths import PathMerger\n",
    "from pyspark.sql import SparkSession\n",
    "from pyspark.sql.types import StructType, StructField, StringType, IntegerType"
   ]
  },
  {
   "cell_type": "markdown",
   "metadata": {},
   "source": [
    "## Configure Spark Context"
   ]
  },
  {
   "cell_type": "code",
   "execution_count": 2,
   "metadata": {},
   "outputs": [],
   "source": [
    "spark = (SparkSession.builder\n",
    "         .appName(\"LoadDatasetsToBronze\")\n",
    "         .config(\"spark.jars.packages\", \"io.delta:delta-core_2.12:0.8.0\")\n",
    "         .config('spark.sql.extensions', \"io.delta.sql.DeltaSparkSessionExtension\")\n",
    "         .config(\"spark.sql.catalog.spark_catalog\", \"org.apache.spark.sql.delta.catalog.DeltaCatalog\")\n",
    "         .config('spark.sql.session.timeZone', 'UTC')\n",
    "         .getOrCreate())"
   ]
  },
  {
   "cell_type": "code",
   "execution_count": 3,
   "metadata": {},
   "outputs": [],
   "source": [
    "# Correct all dates before 1582-10-15 to prolectic gregorian calendar\n",
    "spark.conf.set(\"spark.sql.legacy.parquet.datetimeRebaseModeInRead\", \"CORRECTED\")\n",
    "spark.conf.set(\"spark.sql.legacy.parquet.int96RebaseModeInWrite\", \"CORRECTED\")\n",
    "# spark.conf.set(\"spark.sql.session.timeZone\", \"UTC\")"
   ]
  },
  {
   "cell_type": "markdown",
   "metadata": {},
   "source": [
    "## Ingestion Settings\n",
    "\n",
    "These variables are hard-coded here, but in production, these should be placed into an ETL settings database."
   ]
  },
  {
   "cell_type": "code",
   "execution_count": 4,
   "metadata": {},
   "outputs": [],
   "source": [
    "# Map of combinations to create: (db, table)\n",
    "tables = [\n",
    "    ('customers', 'customers'), \n",
    "    ('customers', 'customer_details'),\n",
    "    ('devices', 'device_models'),\n",
    "    ('devices', 'devices')\n",
    "]"
   ]
  },
  {
   "cell_type": "markdown",
   "metadata": {},
   "source": [
    "## Load Dataset from Staging"
   ]
  },
  {
   "cell_type": "code",
   "execution_count": 33,
   "metadata": {},
   "outputs": [],
   "source": [
    "# Empty\n",
    "tables_saved = []\n",
    "\n",
    "spark.sql('CREATE DATABASE IF NOT EXISTS bronze')\n",
    "\n",
    "for db, table in tables:\n",
    "    \n",
    "    # Instantiate\n",
    "    table_path = PathMerger(db, table)\n",
    "    \n",
    "    # Load the src table\n",
    "    df = (\n",
    "        spark\n",
    "        .read\n",
    "        .format(\"parquet\")\n",
    "        .load(table_path.staging)\n",
    "        # .withColumn(\"src_file\", F.input_file_name())\n",
    "        .withColumn(\"src_batch_id\", F.lit(None).cast(\"integer\"))\n",
    "    )\n",
    "    \n",
    "    # Write to BRONZE\n",
    "    (\n",
    "        df.repartition(1)\n",
    "        .write\n",
    "        .format(\"delta\")\n",
    "        .mode(\"overwrite\")\n",
    "        .option(\"overwriteSchema\", \"true\")\n",
    "        .save(table_path.bronze)\n",
    "    )\n",
    "    \n",
    "    # TODO: Find a way to get Delta Catalog file paths working on WINDOWS OS.\n",
    "    #\n",
    "    # spark.sql(f\"CREATE OR REPLACE TABLE {table_path.hive} USING DELTA LOCATION '{table_path.bronze}'\")\n",
    "    \n",
    "    # For previewing\n",
    "    tables_saved.append(table_path.bronze)"
   ]
  },
  {
   "cell_type": "markdown",
   "metadata": {},
   "source": [
    "## Display what was created"
   ]
  },
  {
   "cell_type": "code",
   "execution_count": 38,
   "metadata": {},
   "outputs": [
    {
     "name": "stdout",
     "output_type": "stream",
     "text": [
      "\n",
      "\n",
      "[INFO] LOADING:  S3\\bronze\\company_rds\\customers\\customers\n",
      "========================================================================\n",
      "+---+---------------------------------+--------------------------------+-------------------+-------------------+------------+\n",
      "|id |username                         |password                        |created            |modified           |src_batch_id|\n",
      "+---+---------------------------------+--------------------------------+-------------------+-------------------+------------+\n",
      "|0  |janisourander@kamk.fi            |ae6743f425fd616c01f4a046c4873635|1290-01-15 00:00:00|1970-02-20 12:34:56|null        |\n",
      "|1  |wrivera@lowe.org                 |3e074ece5f07a59ac540bdf80719dd8f|2020-01-15 13:37:00|2020-11-29 19:14:52|null        |\n",
      "|2  |jill35@walker-thornton.net       |97c19456e44160c1f44729b13ed80a68|2020-01-15 14:11:50|2020-05-23 15:01:53|null        |\n",
      "|3  |henrystephanie@ortega-mahoney.com|7abb90c2f709cdad1e380072668c00ae|2020-01-15 14:52:26|2020-04-02 23:49:23|null        |\n",
      "|4  |zwilliams@hotmail.com            |fe31516750fd66761c57b74dc7b2f223|2020-01-15 15:15:46|2020-04-06 01:25:39|null        |\n",
      "|5  |jjohnson@gmail.com               |524ca768fdc9f229f9eb456b083a785d|2020-01-15 16:11:26|2020-07-10 20:22:58|null        |\n",
      "|6  |vbass@ortiz.biz                  |74a8165ea2bf93efcb90e3f59619099b|2020-01-15 16:41:44|2020-04-04 15:36:37|null        |\n",
      "|7  |eric56@flores.com                |95b5b8d40d9b6fbef8e7298bb8be1bf0|2020-01-15 17:07:42|2020-04-13 19:31:43|null        |\n",
      "|8  |paulstephens@cortez.biz          |16125553478552531a58e3861153255d|2020-01-15 18:01:17|2020-08-07 07:45:25|null        |\n",
      "|9  |jonessarah@carson.org            |33dc5f8f22a6cd472aa7628e1ef32601|2020-01-15 18:40:30|2020-07-07 02:09:16|null        |\n",
      "+---+---------------------------------+--------------------------------+-------------------+-------------------+------------+\n",
      "\n",
      "root\n",
      " |-- id: long (nullable = true)\n",
      " |-- username: string (nullable = true)\n",
      " |-- password: string (nullable = true)\n",
      " |-- created: timestamp (nullable = true)\n",
      " |-- modified: timestamp (nullable = true)\n",
      " |-- src_batch_id: integer (nullable = true)\n",
      "\n",
      "\n",
      "\n",
      "[INFO] LOADING:  S3\\bronze\\company_rds\\customers\\customer_details\n",
      "========================================================================\n",
      "+---+------------+----------------+-----+-----------+-------------------+-------------------+------------+\n",
      "|id |release_date|name            |color|description|created            |modified           |src_batch_id|\n",
      "+---+------------+----------------+-----+-----------+-------------------+-------------------+------------+\n",
      "|0  |2010-05-15  |Super Gadget 100|Red  |lorem ipsum|2010-03-21 12:00:01|2010-03-21 12:00:01|null        |\n",
      "|1  |2010-05-15  |Super Gadget 100|Black|lorem ipsum|2010-03-21 12:00:02|2010-03-21 12:00:02|null        |\n",
      "|2  |2010-11-01  |Super Gadget 100|Pink |lorem ipsum|2010-08-05 07:00:00|2010-08-05 07:00:00|null        |\n",
      "|3  |2018-05-13  |Super Gadget 200|White|lorem ipsum|2018-03-20 12:01:01|2018-03-20 12:01:01|null        |\n",
      "+---+------------+----------------+-----+-----------+-------------------+-------------------+------------+\n",
      "\n",
      "root\n",
      " |-- id: long (nullable = true)\n",
      " |-- release_date: date (nullable = true)\n",
      " |-- name: string (nullable = true)\n",
      " |-- color: string (nullable = true)\n",
      " |-- description: string (nullable = true)\n",
      " |-- created: timestamp (nullable = true)\n",
      " |-- modified: timestamp (nullable = true)\n",
      " |-- src_batch_id: integer (nullable = true)\n",
      "\n",
      "\n",
      "\n",
      "[INFO] LOADING:  S3\\bronze\\company_rds\\devices\\device_models\n",
      "========================================================================\n",
      "+---+------------+----------------+-----+-----------+-------------------+-------------------+------------+\n",
      "|id |release_date|name            |color|description|created            |modified           |src_batch_id|\n",
      "+---+------------+----------------+-----+-----------+-------------------+-------------------+------------+\n",
      "|0  |2010-05-15  |Super Gadget 100|Red  |lorem ipsum|2010-03-21 12:00:01|2010-03-21 12:00:01|null        |\n",
      "|1  |2010-05-15  |Super Gadget 100|Black|lorem ipsum|2010-03-21 12:00:02|2010-03-21 12:00:02|null        |\n",
      "|2  |2010-11-01  |Super Gadget 100|Pink |lorem ipsum|2010-08-05 07:00:00|2010-08-05 07:00:00|null        |\n",
      "|3  |2018-05-13  |Super Gadget 200|White|lorem ipsum|2018-03-20 12:01:01|2018-03-20 12:01:01|null        |\n",
      "+---+------------+----------------+-----+-----------+-------------------+-------------------+------------+\n",
      "\n",
      "root\n",
      " |-- id: long (nullable = true)\n",
      " |-- release_date: date (nullable = true)\n",
      " |-- name: string (nullable = true)\n",
      " |-- color: string (nullable = true)\n",
      " |-- description: string (nullable = true)\n",
      " |-- created: timestamp (nullable = true)\n",
      " |-- modified: timestamp (nullable = true)\n",
      " |-- src_batch_id: integer (nullable = true)\n",
      "\n",
      "\n",
      "\n",
      "[INFO] LOADING:  S3\\bronze\\company_rds\\devices\\devices\n",
      "========================================================================\n",
      "+---+------------+----------------+-----+-----------+-------------------+-------------------+------------+\n",
      "|id |release_date|name            |color|description|created            |modified           |src_batch_id|\n",
      "+---+------------+----------------+-----+-----------+-------------------+-------------------+------------+\n",
      "|0  |2010-05-15  |Super Gadget 100|Red  |lorem ipsum|2010-03-21 12:00:01|2010-03-21 12:00:01|null        |\n",
      "|1  |2010-05-15  |Super Gadget 100|Black|lorem ipsum|2010-03-21 12:00:02|2010-03-21 12:00:02|null        |\n",
      "|2  |2010-11-01  |Super Gadget 100|Pink |lorem ipsum|2010-08-05 07:00:00|2010-08-05 07:00:00|null        |\n",
      "|3  |2018-05-13  |Super Gadget 200|White|lorem ipsum|2018-03-20 12:01:01|2018-03-20 12:01:01|null        |\n",
      "+---+------------+----------------+-----+-----------+-------------------+-------------------+------------+\n",
      "\n",
      "root\n",
      " |-- id: long (nullable = true)\n",
      " |-- release_date: date (nullable = true)\n",
      " |-- name: string (nullable = true)\n",
      " |-- color: string (nullable = true)\n",
      " |-- description: string (nullable = true)\n",
      " |-- created: timestamp (nullable = true)\n",
      " |-- modified: timestamp (nullable = true)\n",
      " |-- src_batch_id: integer (nullable = true)\n",
      "\n"
     ]
    }
   ],
   "source": [
    "for table_path in tables_saved:\n",
    "    print(\"\\n\\n[INFO] LOADING: \", table_path)\n",
    "    print(\"=\" * 72)\n",
    "    df = spark.read.format(\"delta\").load(table_path)\n",
    "    \n",
    "    df.show(truncate=False)\n",
    "    df.printSchema()"
   ]
  },
  {
   "cell_type": "code",
   "execution_count": null,
   "metadata": {},
   "outputs": [],
   "source": []
  }
 ],
 "metadata": {
  "kernelspec": {
   "display_name": "Python 3",
   "language": "python",
   "name": "python3"
  },
  "language_info": {
   "codemirror_mode": {
    "name": "ipython",
    "version": 3
   },
   "file_extension": ".py",
   "mimetype": "text/x-python",
   "name": "python",
   "nbconvert_exporter": "python",
   "pygments_lexer": "ipython3",
   "version": "3.8.5"
  }
 },
 "nbformat": 4,
 "nbformat_minor": 1
}
