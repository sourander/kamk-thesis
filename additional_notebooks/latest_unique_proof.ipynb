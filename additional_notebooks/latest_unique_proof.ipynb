{
 "cells": [
  {
   "cell_type": "markdown",
   "metadata": {},
   "source": [
    "# Finding latest unique row per primary key\n",
    "\n",
    "During merge, there is a need to compress events, since a single id might get any combination of the following events: `INSERT + UPDATE * n_times + DELETE`. \n",
    "\n",
    "We can make some assumptions:\n",
    "* DELETE should always outrule the other two. \n",
    "* UPDATE must always be more recent than any UPDATE.\n",
    "* Competing UPDATEs can often be ranked by dms_timestamp or by modified field.\n",
    "\n",
    "The base logic follows the Delta docs example: https://docs.delta.io/latest/delta-update.html#-merge-in-cdc"
   ]
  },
  {
   "cell_type": "code",
   "execution_count": 1,
   "metadata": {},
   "outputs": [],
   "source": [
    "import pandas as pd\n",
    "import pyspark.sql.functions as F\n",
    "from datetime import datetime, timedelta\n",
    "from pyspark.sql import SparkSession"
   ]
  },
  {
   "cell_type": "code",
   "execution_count": 2,
   "metadata": {},
   "outputs": [],
   "source": [
    "spark = (SparkSession.builder\n",
    "         .appName(\"LatestUniqueFinder\")\n",
    "         .config('spark.sql.session.timeZone', 'UTC')\n",
    "         .getOrCreate())"
   ]
  },
  {
   "cell_type": "markdown",
   "metadata": {},
   "source": [
    "## Generate DataSet"
   ]
  },
  {
   "cell_type": "code",
   "execution_count": 11,
   "metadata": {},
   "outputs": [
    {
     "data": {
      "text/html": [
       "<div>\n",
       "<style scoped>\n",
       "    .dataframe tbody tr th:only-of-type {\n",
       "        vertical-align: middle;\n",
       "    }\n",
       "\n",
       "    .dataframe tbody tr th {\n",
       "        vertical-align: top;\n",
       "    }\n",
       "\n",
       "    .dataframe thead th {\n",
       "        text-align: right;\n",
       "    }\n",
       "</style>\n",
       "<table border=\"1\" class=\"dataframe\">\n",
       "  <thead>\n",
       "    <tr style=\"text-align: right;\">\n",
       "      <th></th>\n",
       "      <th>id</th>\n",
       "      <th>Op</th>\n",
       "      <th>dms_timestamp</th>\n",
       "      <th>value_a</th>\n",
       "      <th>value_b</th>\n",
       "      <th>value_c</th>\n",
       "    </tr>\n",
       "  </thead>\n",
       "  <tbody>\n",
       "    <tr>\n",
       "      <th>0</th>\n",
       "      <td>1</td>\n",
       "      <td>I</td>\n",
       "      <td>2021-04-01 12:34:00</td>\n",
       "      <td>1</td>\n",
       "      <td>1</td>\n",
       "      <td>9</td>\n",
       "    </tr>\n",
       "    <tr>\n",
       "      <th>1</th>\n",
       "      <td>1</td>\n",
       "      <td>U</td>\n",
       "      <td>2021-04-01 12:34:00</td>\n",
       "      <td>2</td>\n",
       "      <td>1</td>\n",
       "      <td>8</td>\n",
       "    </tr>\n",
       "    <tr>\n",
       "      <th>2</th>\n",
       "      <td>1</td>\n",
       "      <td>U</td>\n",
       "      <td>2021-04-01 12:34:01</td>\n",
       "      <td>3</td>\n",
       "      <td>1</td>\n",
       "      <td>8</td>\n",
       "    </tr>\n",
       "    <tr>\n",
       "      <th>3</th>\n",
       "      <td>1</td>\n",
       "      <td>U</td>\n",
       "      <td>2021-04-01 12:34:01</td>\n",
       "      <td>4</td>\n",
       "      <td>2</td>\n",
       "      <td>8</td>\n",
       "    </tr>\n",
       "    <tr>\n",
       "      <th>4</th>\n",
       "      <td>1</td>\n",
       "      <td>U</td>\n",
       "      <td>2021-04-01 12:34:01</td>\n",
       "      <td>4</td>\n",
       "      <td>1</td>\n",
       "      <td>8</td>\n",
       "    </tr>\n",
       "  </tbody>\n",
       "</table>\n",
       "</div>"
      ],
      "text/plain": [
       "   id Op       dms_timestamp  value_a  value_b  value_c\n",
       "0   1  I 2021-04-01 12:34:00        1        1        9\n",
       "1   1  U 2021-04-01 12:34:00        2        1        8\n",
       "2   1  U 2021-04-01 12:34:01        3        1        8\n",
       "3   1  U 2021-04-01 12:34:01        4        2        8\n",
       "4   1  U 2021-04-01 12:34:01        4        1        8"
      ]
     },
     "execution_count": 11,
     "metadata": {},
     "output_type": "execute_result"
    }
   ],
   "source": [
    "# Time Data\n",
    "offset_0 = datetime(2021, 4, 1, 12, 34, 0)\n",
    "offset_1 = offset_0 + timedelta(seconds=1)\n",
    "\n",
    "# Column Names\n",
    "columns=[\"id\", \"Op\", \"dms_timestamp\", \"value_a\", \"value_b\", \"value_c\"]\n",
    "\n",
    "# Rows\n",
    "rows = [\n",
    "    [1, \"I\", offset_0, 1, 1, 9],\n",
    "    [1, \"U\", offset_0, 2, 1, 8],\n",
    "    [1, \"U\", offset_1, 3, 1, 8],\n",
    "    [1, \"U\", offset_1, 4, 2, 8],\n",
    "    [1, \"U\", offset_1, 4, 1, 8],\n",
    "    # [1, \"D\", offset_1, 7],\n",
    "]\n",
    "\n",
    "# Create\n",
    "df = spark.createDataFrame(pd.DataFrame(rows, columns=columns))\n",
    "\n",
    "# Display for Sanity Check\n",
    "pd.DataFrame(rows, columns=columns)"
   ]
  },
  {
   "cell_type": "markdown",
   "metadata": {},
   "source": [
    "## Max using GroupBy"
   ]
  },
  {
   "cell_type": "code",
   "execution_count": 14,
   "metadata": {},
   "outputs": [],
   "source": [
    "# Add op_numeral\n",
    "df_mod = (\n",
    "    df\n",
    "    .withColumn(\"op_numeral\", F.when(F.col(\"Op\") == \"I\", 1)\n",
    "                               .when(F.col(\"Op\") == \"U\", 2)\n",
    "                               .when(F.col(\"Op\") == \"D\", 3).cast(\"int\"))\n",
    ")\n",
    "\n",
    "# These two, as well as Op, are not available in the target Delta Table. Mark as to-be-dropped.\n",
    "cols_to_drop = [\"op_numeral\", \"dms_temp\"]\n",
    "\n",
    "latest_uniques = (\n",
    "    df_mod\n",
    "        .selectExpr(\"id\", \"struct(dms_timestamp as dms_temp, op_numeral, *) as others\")\n",
    "        .groupBy(\"id\")\n",
    "        .agg(F.max(\"others\").alias(\"latest\"))\n",
    "        .select(\"latest.*\")\n",
    "        .drop(*cols_to_drop)\n",
    ")\n"
   ]
  },
  {
   "cell_type": "code",
   "execution_count": 15,
   "metadata": {},
   "outputs": [
    {
     "name": "stdout",
     "output_type": "stream",
     "text": [
      "+---+---+-------------------+-------+-------+-------+\n",
      "| id| Op|      dms_timestamp|value_a|value_b|value_c|\n",
      "+---+---+-------------------+-------+-------+-------+\n",
      "|  1|  U|2021-04-01 12:34:01|      4|      2|      8|\n",
      "+---+---+-------------------+-------+-------+-------+\n",
      "\n"
     ]
    }
   ],
   "source": [
    "latest_uniques.show()"
   ]
  },
  {
   "cell_type": "code",
   "execution_count": null,
   "metadata": {},
   "outputs": [],
   "source": []
  }
 ],
 "metadata": {
  "kernelspec": {
   "display_name": "Python 3",
   "language": "python",
   "name": "python3"
  },
  "language_info": {
   "codemirror_mode": {
    "name": "ipython",
    "version": 3
   },
   "file_extension": ".py",
   "mimetype": "text/x-python",
   "name": "python",
   "nbconvert_exporter": "python",
   "pygments_lexer": "ipython3",
   "version": "3.8.5"
  }
 },
 "nbformat": 4,
 "nbformat_minor": 1
}
