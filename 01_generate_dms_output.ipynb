{
 "cells": [
  {
   "cell_type": "markdown",
   "metadata": {
    "collapsed": true
   },
   "source": [
    "# Simulate AWS DMS output\n",
    "\n",
    "In my thesis, the input files are pretended to be written by AWS DMS. Instead of actually creating a relational database and extracting it using AWS DMS, I have chosen to directly create the output files."
   ]
  },
  {
   "cell_type": "code",
   "execution_count": 1,
   "metadata": {},
   "outputs": [],
   "source": [
    "import pandas as pd\n",
    "import random\n",
    "import os\n",
    "from faker import Faker\n",
    "from datetime import datetime, timedelta\n",
    "from pyspark.sql import SparkSession\n",
    "from pyspark.sql.types import StructType, StructField, StringType, IntegerType\n",
    "\n",
    "fake = Faker()"
   ]
  },
  {
   "cell_type": "code",
   "execution_count": 2,
   "metadata": {
    "scrolled": true
   },
   "outputs": [],
   "source": [
    "def generate_customers(first_registration:datetime):\n",
    "    customers = []\n",
    "    \n",
    "    # Memorized value for the creation time of the previous customer.\n",
    "    created_prev = None\n",
    "    \n",
    "    # A single hard-coded customer for reference\n",
    "    customer = {\n",
    "        \"id\": 0, \n",
    "        \"username\": 'janisourander@kamk.fi',\n",
    "        \"password\": fake.md5(),\n",
    "        \"created\": datetime(1290, 1, 15, 0, 0, 0),\n",
    "        \"modified\": datetime(1970, 2, 20, 12, 34, 56),\n",
    "    }\n",
    "    \n",
    "    customers.append(customer)\n",
    "\n",
    "    for i in range(1, 10):\n",
    "        \n",
    "        if created_prev is None:\n",
    "            # The first ever customer was created at 13:37, 15th of Jan 2020.\n",
    "            created = first_registration\n",
    "        else:\n",
    "            # Each other customer were created n second later than the previous.\n",
    "            created = created_prev + timedelta(seconds=random.randrange(1, 3600))\n",
    "        \n",
    "        customer = {\n",
    "            \"id\": i, \n",
    "            \"username\": fake.unique.ascii_email(),\n",
    "            \"password\": fake.md5(),\n",
    "            \"created\": created,\n",
    "            \"modified\": created + timedelta(seconds=random.randrange(0, 3600 * 24 * 365)),\n",
    "        }\n",
    "        \n",
    "        customers.append(customer)\n",
    "        \n",
    "        # Set current created datetime as previous\n",
    "        created_prev = created\n",
    "\n",
    "    return pd.DataFrame.from_records(customers)\n",
    "    \n",
    "    # return spark.createDataFrame(pdf)"
   ]
  },
  {
   "cell_type": "code",
   "execution_count": 3,
   "metadata": {},
   "outputs": [
    {
     "name": "stdout",
     "output_type": "stream",
     "text": [
      "Writing to: S3\\staging\\alpha\\customers\\customers\\LOAD00000001.parquet\n"
     ]
    }
   ],
   "source": [
    "# Settings for path prefixing\n",
    "src_container = 'S3'\n",
    "src_prefix = 'staging'\n",
    "src_system = 'alpha'\n",
    "src_db = 'customers'\n",
    "src_table = 'customers'\n",
    "tgt_dir = os.path.join(src_container, src_prefix, src_system, src_db, src_table)\n",
    "tgt_filename = 'LOAD' + '1'.zfill(8) + '.parquet'\n",
    "\n",
    "# Create directory to contain all the Datasets\n",
    "if not os.path.exists(tgt_dir):\n",
    "    os.makedirs(tgt_dir)\n",
    "\n",
    "# Generate the Dataset - Customers\n",
    "\n",
    "df_c = generate_customers(first_registration=datetime(2020, 1, 15, 13, 37, 0))\n",
    "output_path = os.path.join(tgt_dir, tgt_filename)\n",
    "\n",
    "print('Writing to:', output_path)"
   ]
  },
  {
   "cell_type": "code",
   "execution_count": 4,
   "metadata": {},
   "outputs": [],
   "source": [
    "df_c.to_parquet(output_path)"
   ]
  },
  {
   "cell_type": "code",
   "execution_count": 5,
   "metadata": {},
   "outputs": [
    {
     "data": {
      "text/html": [
       "<div>\n",
       "<style scoped>\n",
       "    .dataframe tbody tr th:only-of-type {\n",
       "        vertical-align: middle;\n",
       "    }\n",
       "\n",
       "    .dataframe tbody tr th {\n",
       "        vertical-align: top;\n",
       "    }\n",
       "\n",
       "    .dataframe thead th {\n",
       "        text-align: right;\n",
       "    }\n",
       "</style>\n",
       "<table border=\"1\" class=\"dataframe\">\n",
       "  <thead>\n",
       "    <tr style=\"text-align: right;\">\n",
       "      <th></th>\n",
       "      <th>id</th>\n",
       "      <th>username</th>\n",
       "      <th>password</th>\n",
       "      <th>created</th>\n",
       "      <th>modified</th>\n",
       "    </tr>\n",
       "  </thead>\n",
       "  <tbody>\n",
       "    <tr>\n",
       "      <th>0</th>\n",
       "      <td>0</td>\n",
       "      <td>janisourander@kamk.fi</td>\n",
       "      <td>97abaa87d5127504399cf73ef35e3ac8</td>\n",
       "      <td>1290-01-15 00:00:00</td>\n",
       "      <td>1970-02-20 12:34:56</td>\n",
       "    </tr>\n",
       "    <tr>\n",
       "      <th>1</th>\n",
       "      <td>1</td>\n",
       "      <td>fbryant@hotmail.com</td>\n",
       "      <td>d55ed13ff10e1f44fb917828756d8b7c</td>\n",
       "      <td>2020-01-15 13:37:00</td>\n",
       "      <td>2020-08-16 04:10:56</td>\n",
       "    </tr>\n",
       "    <tr>\n",
       "      <th>2</th>\n",
       "      <td>2</td>\n",
       "      <td>sandracoffey@phelps-harris.org</td>\n",
       "      <td>398633c285f98e4f848a362af0608fd8</td>\n",
       "      <td>2020-01-15 14:07:24</td>\n",
       "      <td>2020-12-12 10:26:01</td>\n",
       "    </tr>\n",
       "    <tr>\n",
       "      <th>3</th>\n",
       "      <td>3</td>\n",
       "      <td>abigailnavarro@hotmail.com</td>\n",
       "      <td>7904848a525464cc2e25117527e96d89</td>\n",
       "      <td>2020-01-15 15:04:43</td>\n",
       "      <td>2020-08-01 10:13:53</td>\n",
       "    </tr>\n",
       "    <tr>\n",
       "      <th>4</th>\n",
       "      <td>4</td>\n",
       "      <td>melissa69@glover-hernandez.org</td>\n",
       "      <td>5cf62ef34d196ec0e08a4aaf756fabe9</td>\n",
       "      <td>2020-01-15 15:37:40</td>\n",
       "      <td>2020-11-02 01:18:47</td>\n",
       "    </tr>\n",
       "    <tr>\n",
       "      <th>5</th>\n",
       "      <td>5</td>\n",
       "      <td>heathercampbell@garcia-hernandez.org</td>\n",
       "      <td>da3272ebe29b5fb83fe7edba5ebe86dd</td>\n",
       "      <td>2020-01-15 16:11:12</td>\n",
       "      <td>2020-04-05 22:23:03</td>\n",
       "    </tr>\n",
       "    <tr>\n",
       "      <th>6</th>\n",
       "      <td>6</td>\n",
       "      <td>wramirez@yahoo.com</td>\n",
       "      <td>1197f14a4ade6e7a573d6d7181e1cc1c</td>\n",
       "      <td>2020-01-15 17:08:15</td>\n",
       "      <td>2020-09-06 09:16:54</td>\n",
       "    </tr>\n",
       "    <tr>\n",
       "      <th>7</th>\n",
       "      <td>7</td>\n",
       "      <td>lauriemoore@moreno.net</td>\n",
       "      <td>d52e62add46aadb25e39375185f17b05</td>\n",
       "      <td>2020-01-15 17:40:42</td>\n",
       "      <td>2020-02-22 11:11:14</td>\n",
       "    </tr>\n",
       "    <tr>\n",
       "      <th>8</th>\n",
       "      <td>8</td>\n",
       "      <td>gparker@yahoo.com</td>\n",
       "      <td>f8049ff99d476ad65b13a325ebbc7774</td>\n",
       "      <td>2020-01-15 18:30:16</td>\n",
       "      <td>2020-07-13 13:40:10</td>\n",
       "    </tr>\n",
       "    <tr>\n",
       "      <th>9</th>\n",
       "      <td>9</td>\n",
       "      <td>donaldcunningham@hotmail.com</td>\n",
       "      <td>1ea7b70cab7b98569effbb547cf31445</td>\n",
       "      <td>2020-01-15 19:12:11</td>\n",
       "      <td>2020-10-14 04:18:29</td>\n",
       "    </tr>\n",
       "  </tbody>\n",
       "</table>\n",
       "</div>"
      ],
      "text/plain": [
       "   id                              username                          password  \\\n",
       "0   0                 janisourander@kamk.fi  97abaa87d5127504399cf73ef35e3ac8   \n",
       "1   1                   fbryant@hotmail.com  d55ed13ff10e1f44fb917828756d8b7c   \n",
       "2   2        sandracoffey@phelps-harris.org  398633c285f98e4f848a362af0608fd8   \n",
       "3   3            abigailnavarro@hotmail.com  7904848a525464cc2e25117527e96d89   \n",
       "4   4        melissa69@glover-hernandez.org  5cf62ef34d196ec0e08a4aaf756fabe9   \n",
       "5   5  heathercampbell@garcia-hernandez.org  da3272ebe29b5fb83fe7edba5ebe86dd   \n",
       "6   6                    wramirez@yahoo.com  1197f14a4ade6e7a573d6d7181e1cc1c   \n",
       "7   7                lauriemoore@moreno.net  d52e62add46aadb25e39375185f17b05   \n",
       "8   8                     gparker@yahoo.com  f8049ff99d476ad65b13a325ebbc7774   \n",
       "9   9          donaldcunningham@hotmail.com  1ea7b70cab7b98569effbb547cf31445   \n",
       "\n",
       "               created            modified  \n",
       "0  1290-01-15 00:00:00 1970-02-20 12:34:56  \n",
       "1  2020-01-15 13:37:00 2020-08-16 04:10:56  \n",
       "2  2020-01-15 14:07:24 2020-12-12 10:26:01  \n",
       "3  2020-01-15 15:04:43 2020-08-01 10:13:53  \n",
       "4  2020-01-15 15:37:40 2020-11-02 01:18:47  \n",
       "5  2020-01-15 16:11:12 2020-04-05 22:23:03  \n",
       "6  2020-01-15 17:08:15 2020-09-06 09:16:54  \n",
       "7  2020-01-15 17:40:42 2020-02-22 11:11:14  \n",
       "8  2020-01-15 18:30:16 2020-07-13 13:40:10  \n",
       "9  2020-01-15 19:12:11 2020-10-14 04:18:29  "
      ]
     },
     "execution_count": 5,
     "metadata": {},
     "output_type": "execute_result"
    }
   ],
   "source": [
    "df_c"
   ]
  },
  {
   "cell_type": "code",
   "execution_count": 9,
   "metadata": {},
   "outputs": [],
   "source": [
    "datetime(1970, 2, 20, 12, 34, 56).tzinfo"
   ]
  },
  {
   "cell_type": "code",
   "execution_count": null,
   "metadata": {},
   "outputs": [],
   "source": []
  }
 ],
 "metadata": {
  "kernelspec": {
   "display_name": "Python 3",
   "language": "python",
   "name": "python3"
  },
  "language_info": {
   "codemirror_mode": {
    "name": "ipython",
    "version": 3
   },
   "file_extension": ".py",
   "mimetype": "text/x-python",
   "name": "python",
   "nbconvert_exporter": "python",
   "pygments_lexer": "ipython3",
   "version": "3.8.5"
  }
 },
 "nbformat": 4,
 "nbformat_minor": 1
}
