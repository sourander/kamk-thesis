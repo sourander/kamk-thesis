{
 "cells": [
  {
   "cell_type": "markdown",
   "id": "7f88f85f",
   "metadata": {},
   "source": [
    "# Generate Change Data Feed"
   ]
  },
  {
   "cell_type": "code",
   "execution_count": 12,
   "id": "a1754db0",
   "metadata": {},
   "outputs": [],
   "source": [
    "import os\n",
    "import pyspark.sql.functions as F\n",
    "\n",
    "from random import randrange\n",
    "from helpers.paths import PathMerger\n",
    "from pyspark.sql import SparkSession\n",
    "from pyspark.sql.types import StructType\n",
    "from datetime import datetime, date"
   ]
  },
  {
   "cell_type": "code",
   "execution_count": 13,
   "id": "735554a4",
   "metadata": {},
   "outputs": [],
   "source": [
    "spark = (SparkSession.builder\n",
    "         .appName('GenerateCDC')\n",
    "         .config('spark.jars.packages', 'io.delta:delta-core_2.12:0.8.0')\n",
    "         .config('spark.sql.extensions', 'io.delta.sql.DeltaSparkSessionExtension')\n",
    "         .config('spark.sql.catalog.spark_catalog', 'org.apache.spark.sql.delta.catalog.DeltaCatalog')\n",
    "         .config('spark.sql.session.timeZone', 'UTC')\n",
    "         .getOrCreate())\n",
    "\n",
    "\n",
    "# This cannot be imported before initializing the SparkSession.\n",
    "from delta import DeltaTable"
   ]
  },
  {
   "cell_type": "markdown",
   "id": "2430b44c",
   "metadata": {},
   "source": [
    "## Inspect the target Bronze table"
   ]
  },
  {
   "cell_type": "code",
   "execution_count": 14,
   "id": "96f1ab1d",
   "metadata": {},
   "outputs": [
    {
     "data": {
      "text/html": [
       "<div>\n",
       "<style scoped>\n",
       "    .dataframe tbody tr th:only-of-type {\n",
       "        vertical-align: middle;\n",
       "    }\n",
       "\n",
       "    .dataframe tbody tr th {\n",
       "        vertical-align: top;\n",
       "    }\n",
       "\n",
       "    .dataframe thead th {\n",
       "        text-align: right;\n",
       "    }\n",
       "</style>\n",
       "<table border=\"1\" class=\"dataframe\">\n",
       "  <thead>\n",
       "    <tr style=\"text-align: right;\">\n",
       "      <th></th>\n",
       "      <th>dms_timestamp</th>\n",
       "      <th>id</th>\n",
       "      <th>release_date</th>\n",
       "      <th>name</th>\n",
       "      <th>color</th>\n",
       "      <th>description</th>\n",
       "      <th>created</th>\n",
       "      <th>modified</th>\n",
       "      <th>src_batch_id</th>\n",
       "    </tr>\n",
       "  </thead>\n",
       "  <tbody>\n",
       "    <tr>\n",
       "      <th>0</th>\n",
       "      <td>2021-08-05 15:19:54</td>\n",
       "      <td>1</td>\n",
       "      <td>2010-05-15</td>\n",
       "      <td>Super Gadget 100</td>\n",
       "      <td>Red</td>\n",
       "      <td>lorem ipsum</td>\n",
       "      <td>2010-03-21 12:00:01</td>\n",
       "      <td>2010-03-21 12:00:01</td>\n",
       "      <td>NaN</td>\n",
       "    </tr>\n",
       "    <tr>\n",
       "      <th>1</th>\n",
       "      <td>2021-08-05 15:19:54</td>\n",
       "      <td>2</td>\n",
       "      <td>2010-05-15</td>\n",
       "      <td>Super Gadget 100</td>\n",
       "      <td>Black</td>\n",
       "      <td>lorem ipsum</td>\n",
       "      <td>2010-03-21 12:00:02</td>\n",
       "      <td>2010-03-21 12:00:02</td>\n",
       "      <td>NaN</td>\n",
       "    </tr>\n",
       "    <tr>\n",
       "      <th>2</th>\n",
       "      <td>2021-08-05 15:19:54</td>\n",
       "      <td>3</td>\n",
       "      <td>2010-11-01</td>\n",
       "      <td>Super Gadget 100</td>\n",
       "      <td>Pink</td>\n",
       "      <td>lorem ipsum</td>\n",
       "      <td>2010-08-05 07:00:00</td>\n",
       "      <td>2010-08-05 07:00:00</td>\n",
       "      <td>NaN</td>\n",
       "    </tr>\n",
       "    <tr>\n",
       "      <th>3</th>\n",
       "      <td>2021-08-05 15:19:54</td>\n",
       "      <td>4</td>\n",
       "      <td>2018-05-13</td>\n",
       "      <td>Super Gadget 200</td>\n",
       "      <td>White</td>\n",
       "      <td>lorem ipsum</td>\n",
       "      <td>2018-03-20 12:01:01</td>\n",
       "      <td>2018-03-20 12:01:01</td>\n",
       "      <td>NaN</td>\n",
       "    </tr>\n",
       "  </tbody>\n",
       "</table>\n",
       "</div>"
      ],
      "text/plain": [
       "         dms_timestamp  id release_date              name  color  description  \\\n",
       "0  2021-08-05 15:19:54   1   2010-05-15  Super Gadget 100    Red  lorem ipsum   \n",
       "1  2021-08-05 15:19:54   2   2010-05-15  Super Gadget 100  Black  lorem ipsum   \n",
       "2  2021-08-05 15:19:54   3   2010-11-01  Super Gadget 100   Pink  lorem ipsum   \n",
       "3  2021-08-05 15:19:54   4   2018-05-13  Super Gadget 200  White  lorem ipsum   \n",
       "\n",
       "              created            modified  src_batch_id  \n",
       "0 2010-03-21 12:00:01 2010-03-21 12:00:01           NaN  \n",
       "1 2010-03-21 12:00:02 2010-03-21 12:00:02           NaN  \n",
       "2 2010-08-05 07:00:00 2010-08-05 07:00:00           NaN  \n",
       "3 2018-03-20 12:01:01 2018-03-20 12:01:01           NaN  "
      ]
     },
     "execution_count": 14,
     "metadata": {},
     "output_type": "execute_result"
    }
   ],
   "source": [
    "# Init\n",
    "pm = PathMerger('devices', 'device_models')\n",
    "\n",
    "df_tgt = spark.read.format(\"delta\").load(pm.bronze)\n",
    "\n",
    "df_tgt.toPandas()"
   ]
  },
  {
   "cell_type": "markdown",
   "id": "3095318f",
   "metadata": {},
   "source": [
    "## Generate Schema"
   ]
  },
  {
   "cell_type": "code",
   "execution_count": 15,
   "id": "d8442dbe",
   "metadata": {},
   "outputs": [
    {
     "data": {
      "text/plain": [
       "StructType(List(StructField(Op,StringType,true),StructField(dms_timestamp,StringType,true),StructField(id,IntegerType,true),StructField(release_date,DateType,true),StructField(name,StringType,true),StructField(color,StringType,true),StructField(description,StringType,true),StructField(created,TimestampType,true),StructField(modified,TimestampType,true)))"
      ]
     },
     "execution_count": 15,
     "metadata": {},
     "output_type": "execute_result"
    }
   ],
   "source": [
    "# Init\n",
    "schema = StructType()\n",
    "\n",
    "# Add fields.\n",
    "schema.add('Op', 'string')\n",
    "schema.add('dms_timestamp', 'string')\n",
    "schema.add('id', 'integer')\n",
    "schema.add('release_date', 'date')\n",
    "schema.add('name', 'string')\n",
    "schema.add('color', 'string')\n",
    "schema.add('description', 'string')\n",
    "schema.add('created', 'timestamp')\n",
    "schema.add('modified', 'timestamp')"
   ]
  },
  {
   "cell_type": "markdown",
   "id": "8e3c1138",
   "metadata": {},
   "source": [
    "## Generate DataFrame on INSERTS"
   ]
  },
  {
   "cell_type": "code",
   "execution_count": 16,
   "id": "786ed843",
   "metadata": {},
   "outputs": [],
   "source": [
    "def curr():\n",
    "    now = datetime.now()\n",
    "    return datetime(now.year, now.month, now.day, now.hour, now.minute, now.second)\n",
    "\n",
    "def curr_str():\n",
    "    return datetime.now().strftime('%Y-%m-%d %H:%M:%S')\n",
    "\n",
    "new_rows = [\n",
    "    ('I', curr_str(), 5, date(2021, 8, 1), 'Super Gadget 300', 'Black', 'new device', curr(), curr()),\n",
    "    ('I', curr_str(), 6, date(2021, 8, 1), 'Super Gadget 300', 'Pink', 'new device', curr(), curr()),\n",
    "]\n",
    "\n",
    "df_inserts = spark.createDataFrame(new_rows, schema)"
   ]
  },
  {
   "cell_type": "code",
   "execution_count": 17,
   "id": "e8d050ce",
   "metadata": {},
   "outputs": [
    {
     "name": "stdout",
     "output_type": "stream",
     "text": [
      "+---+-------------------+---+------------+----------------+-----+-----------+-------------------+-------------------+\n",
      "| Op|      dms_timestamp| id|release_date|            name|color|description|            created|           modified|\n",
      "+---+-------------------+---+------------+----------------+-----+-----------+-------------------+-------------------+\n",
      "|  I|2021-08-19 10:46:24|  5|  2021-08-01|Super Gadget 300|Black| new device|2021-08-19 07:46:24|2021-08-19 07:46:24|\n",
      "|  I|2021-08-19 10:46:24|  6|  2021-08-01|Super Gadget 300| Pink| new device|2021-08-19 07:46:24|2021-08-19 07:46:24|\n",
      "+---+-------------------+---+------------+----------------+-----+-----------+-------------------+-------------------+\n",
      "\n"
     ]
    }
   ],
   "source": [
    "df_inserts.show()"
   ]
  },
  {
   "cell_type": "markdown",
   "id": "2edc7cd8",
   "metadata": {},
   "source": [
    "## Generate DataFrame of UPDATES"
   ]
  },
  {
   "cell_type": "code",
   "execution_count": 18,
   "id": "135df101",
   "metadata": {},
   "outputs": [],
   "source": [
    "def modify_row(idx, new_desc):\n",
    "    new_row = ( \n",
    "        df_tgt.where(F.col('id') == idx)\n",
    "        .withColumn('Op', F.lit('U'))\n",
    "        .withColumn('dms_timestamp', F.lit(curr_str()))\n",
    "        .withColumn('description', F.lit(new_desc))\n",
    "        .withColumn('modified', F.lit(curr()))\n",
    "        .drop('src_batch_id')\n",
    "    ).first()\n",
    "    \n",
    "    return new_row"
   ]
  },
  {
   "cell_type": "code",
   "execution_count": 19,
   "id": "65257d99",
   "metadata": {},
   "outputs": [],
   "source": [
    "new_rows = [\n",
    "    modify_row(1, 'update A'),\n",
    "    modify_row(2, 'update B'),\n",
    "]\n",
    "\n",
    "df_updates = spark.createDataFrame(new_rows)\n",
    "\n",
    "# Reorder to match the schema\n",
    "df_updates = df_updates.select([x.name for x in schema])"
   ]
  },
  {
   "cell_type": "code",
   "execution_count": 20,
   "id": "8cc763e6",
   "metadata": {},
   "outputs": [
    {
     "name": "stdout",
     "output_type": "stream",
     "text": [
      "+---+-------------------+---+------------+----------------+-----+-----------+-------------------+-------------------+\n",
      "| Op|      dms_timestamp| id|release_date|            name|color|description|            created|           modified|\n",
      "+---+-------------------+---+------------+----------------+-----+-----------+-------------------+-------------------+\n",
      "|  U|2021-08-19 10:46:36|  1|  2010-05-15|Super Gadget 100|  Red|   update A|2010-03-21 12:00:01|2021-08-19 07:46:36|\n",
      "|  U|2021-08-19 10:46:37|  2|  2010-05-15|Super Gadget 100|Black|   update B|2010-03-21 12:00:02|2021-08-19 07:46:37|\n",
      "+---+-------------------+---+------------+----------------+-----+-----------+-------------------+-------------------+\n",
      "\n"
     ]
    }
   ],
   "source": [
    "df_updates.show()"
   ]
  },
  {
   "cell_type": "markdown",
   "id": "59b09d02",
   "metadata": {},
   "source": [
    "## Union to a single DataFrame"
   ]
  },
  {
   "cell_type": "code",
   "execution_count": 21,
   "id": "cf4c0d35",
   "metadata": {},
   "outputs": [
    {
     "data": {
      "text/html": [
       "<div>\n",
       "<style scoped>\n",
       "    .dataframe tbody tr th:only-of-type {\n",
       "        vertical-align: middle;\n",
       "    }\n",
       "\n",
       "    .dataframe tbody tr th {\n",
       "        vertical-align: top;\n",
       "    }\n",
       "\n",
       "    .dataframe thead th {\n",
       "        text-align: right;\n",
       "    }\n",
       "</style>\n",
       "<table border=\"1\" class=\"dataframe\">\n",
       "  <thead>\n",
       "    <tr style=\"text-align: right;\">\n",
       "      <th></th>\n",
       "      <th>Op</th>\n",
       "      <th>dms_timestamp</th>\n",
       "      <th>id</th>\n",
       "      <th>release_date</th>\n",
       "      <th>name</th>\n",
       "      <th>color</th>\n",
       "      <th>description</th>\n",
       "      <th>created</th>\n",
       "      <th>modified</th>\n",
       "    </tr>\n",
       "  </thead>\n",
       "  <tbody>\n",
       "    <tr>\n",
       "      <th>0</th>\n",
       "      <td>I</td>\n",
       "      <td>2021-08-19 10:46:24</td>\n",
       "      <td>5</td>\n",
       "      <td>2021-08-01</td>\n",
       "      <td>Super Gadget 300</td>\n",
       "      <td>Black</td>\n",
       "      <td>new device</td>\n",
       "      <td>2021-08-19 07:46:24</td>\n",
       "      <td>2021-08-19 07:46:24</td>\n",
       "    </tr>\n",
       "    <tr>\n",
       "      <th>1</th>\n",
       "      <td>I</td>\n",
       "      <td>2021-08-19 10:46:24</td>\n",
       "      <td>6</td>\n",
       "      <td>2021-08-01</td>\n",
       "      <td>Super Gadget 300</td>\n",
       "      <td>Pink</td>\n",
       "      <td>new device</td>\n",
       "      <td>2021-08-19 07:46:24</td>\n",
       "      <td>2021-08-19 07:46:24</td>\n",
       "    </tr>\n",
       "    <tr>\n",
       "      <th>2</th>\n",
       "      <td>U</td>\n",
       "      <td>2021-08-19 10:46:36</td>\n",
       "      <td>1</td>\n",
       "      <td>2010-05-15</td>\n",
       "      <td>Super Gadget 100</td>\n",
       "      <td>Red</td>\n",
       "      <td>update A</td>\n",
       "      <td>2010-03-21 12:00:01</td>\n",
       "      <td>2021-08-19 07:46:36</td>\n",
       "    </tr>\n",
       "    <tr>\n",
       "      <th>3</th>\n",
       "      <td>U</td>\n",
       "      <td>2021-08-19 10:46:37</td>\n",
       "      <td>2</td>\n",
       "      <td>2010-05-15</td>\n",
       "      <td>Super Gadget 100</td>\n",
       "      <td>Black</td>\n",
       "      <td>update B</td>\n",
       "      <td>2010-03-21 12:00:02</td>\n",
       "      <td>2021-08-19 07:46:37</td>\n",
       "    </tr>\n",
       "  </tbody>\n",
       "</table>\n",
       "</div>"
      ],
      "text/plain": [
       "  Op        dms_timestamp  id release_date              name  color  \\\n",
       "0  I  2021-08-19 10:46:24   5   2021-08-01  Super Gadget 300  Black   \n",
       "1  I  2021-08-19 10:46:24   6   2021-08-01  Super Gadget 300   Pink   \n",
       "2  U  2021-08-19 10:46:36   1   2010-05-15  Super Gadget 100    Red   \n",
       "3  U  2021-08-19 10:46:37   2   2010-05-15  Super Gadget 100  Black   \n",
       "\n",
       "  description             created            modified  \n",
       "0  new device 2021-08-19 07:46:24 2021-08-19 07:46:24  \n",
       "1  new device 2021-08-19 07:46:24 2021-08-19 07:46:24  \n",
       "2    update A 2010-03-21 12:00:01 2021-08-19 07:46:36  \n",
       "3    update B 2010-03-21 12:00:02 2021-08-19 07:46:37  "
      ]
     },
     "execution_count": 21,
     "metadata": {},
     "output_type": "execute_result"
    }
   ],
   "source": [
    "df_all = df_inserts.union(df_updates).toPandas()\n",
    "\n",
    "df_all"
   ]
  },
  {
   "cell_type": "markdown",
   "id": "80ef8c16",
   "metadata": {},
   "source": [
    "## Write"
   ]
  },
  {
   "cell_type": "code",
   "execution_count": 22,
   "id": "979f3f6a",
   "metadata": {},
   "outputs": [
    {
     "name": "stdout",
     "output_type": "stream",
     "text": [
      "[INFO] Writing to: S3\\staging\\dms\\abc\\devices\\device_models\\2021\\8\\19\\20210819_104713.parquet\n"
     ]
    }
   ],
   "source": [
    "now = datetime.now()\n",
    "\n",
    "# DMS outputs to subdirs based on ./yyyy/mm/dd/\n",
    "output_dir = os.path.join(pm.staging, str(now.year), str(now.month), str(now.day))\n",
    "\n",
    "# File name follows are pattern similar to yyyymmdd_hhmmss.parquet\n",
    "file_name = now.strftime('%Y%m%d_%H%M%S') + '.parquet'\n",
    "\n",
    "# Combine\n",
    "output_path = os.path.join(output_dir, file_name)\n",
    "\n",
    "# Verbose\n",
    "print('[INFO] Writing to:', output_path)\n",
    "\n",
    "# Create directories that do not exist\n",
    "os.makedirs(output_dir) \n",
    "\n",
    "# Write\n",
    "df_all.to_parquet(output_path)"
   ]
  }
 ],
 "metadata": {
  "kernelspec": {
   "display_name": "Python 3",
   "language": "python",
   "name": "python3"
  },
  "language_info": {
   "codemirror_mode": {
    "name": "ipython",
    "version": 3
   },
   "file_extension": ".py",
   "mimetype": "text/x-python",
   "name": "python",
   "nbconvert_exporter": "python",
   "pygments_lexer": "ipython3",
   "version": "3.8.5"
  }
 },
 "nbformat": 4,
 "nbformat_minor": 5
}
